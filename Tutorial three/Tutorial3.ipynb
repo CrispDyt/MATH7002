{
 "cells": [
  {
   "cell_type": "markdown",
   "id": "dd34bcb7-1d84-46f5-9896-8958b2d824f8",
   "metadata": {},
   "source": [
    "1. For the Horse Kick data, we already saw that the MLE is just the mean of the observations. Recall that an approximate 95% confidence interval for a Poisson mean parameter $\\lambda$ is \n",
    "$$ \\hat{\\lambda}- 1.96\\sqrt{\\hat{\\lambda}/n} < \\lambda < \\hat{\\lambda} + 1.96\\sqrt{\\hat{\\lambda}/n}$$\n",
    "These can be computed using `pois.approx` in the `epitools` library.\n",
    "\n",
    "    Compare the 95% confidence intervals for the Horse Kick data as above, with those computed using the log-likelihood."
   ]
  },
  {
   "cell_type": "code",
   "execution_count": 167,
   "id": "f7718024-6eff-4ef2-af0b-d70534126112",
   "metadata": {},
   "outputs": [
    {
     "name": "stdout",
     "output_type": "stream",
     "text": [
      "Profiling...\n"
     ]
    },
    {
     "data": {
      "text/html": [
       "<dl class=dl-horizontal>\n",
       "\t<dt>2.5 %</dt>\n",
       "\t\t<dd>0.50807606390128</dd>\n",
       "\t<dt>97.5 %</dt>\n",
       "\t\t<dd>0.72474440366303</dd>\n",
       "</dl>\n"
      ],
      "text/latex": [
       "\\begin{description*}\n",
       "\\item[2.5 \\textbackslash{}\\%] 0.50807606390128\n",
       "\\item[97.5 \\textbackslash{}\\%] 0.72474440366303\n",
       "\\end{description*}\n"
      ],
      "text/markdown": [
       "2.5 %\n",
       ":   0.5080760639012897.5 %\n",
       ":   0.72474440366303\n",
       "\n"
      ],
      "text/plain": [
       "    2.5 %    97.5 % \n",
       "0.5080761 0.7247444 "
      ]
     },
     "metadata": {},
     "output_type": "display_data"
    }
   ],
   "source": [
    "require(stats4)\n",
    "horsekick.tab = c(109,65,22,3,1)\n",
    "names(horsekick.tab) = 0:4 \n",
    "nloglik = function(lambda) -sum(dpois(0:4,lambda, log=TRUE)*horsekick.tab) \n",
    "fit = mle(nloglik, start = list(lambda = 1), nobs = 200L, method = \"L-BFGS-B\", lower = 1e-6)\n",
    "# Calculate the confidence interval for lambda using the MLE method\n",
    "confint(fit) "
   ]
  },
  {
   "cell_type": "code",
   "execution_count": null,
   "id": "10ffd7d6-c9c9-4f0c-9788-7aac46b23468",
   "metadata": {},
   "outputs": [],
   "source": []
  },
  {
   "cell_type": "code",
   "execution_count": 171,
   "id": "6ec68fc9-90d5-407d-a7ac-fb9dbeb6f092",
   "metadata": {},
   "outputs": [],
   "source": [
    "# Here we need to check the convergence\n",
    "# fit@details"
   ]
  },
  {
   "cell_type": "code",
   "execution_count": 173,
   "id": "c12f31bd-a0dd-458b-9785-2070c6e52c6a",
   "metadata": {},
   "outputs": [
    {
     "data": {
      "text/html": [
       "<table>\n",
       "<thead><tr><th scope=col>x</th><th scope=col>pt</th><th scope=col>rate</th><th scope=col>lower</th><th scope=col>upper</th><th scope=col>conf.level</th></tr></thead>\n",
       "<tbody>\n",
       "\t<tr><td>122      </td><td>200      </td><td>0.61     </td><td>0.5017575</td><td>0.7182425</td><td>0.95     </td></tr>\n",
       "</tbody>\n",
       "</table>\n"
      ],
      "text/latex": [
       "\\begin{tabular}{r|llllll}\n",
       " x & pt & rate & lower & upper & conf.level\\\\\n",
       "\\hline\n",
       "\t 122       & 200       & 0.61      & 0.5017575 & 0.7182425 & 0.95     \\\\\n",
       "\\end{tabular}\n"
      ],
      "text/markdown": [
       "\n",
       "| x | pt | rate | lower | upper | conf.level |\n",
       "|---|---|---|---|---|---|\n",
       "| 122       | 200       | 0.61      | 0.5017575 | 0.7182425 | 0.95      |\n",
       "\n"
      ],
      "text/plain": [
       "  x   pt  rate lower     upper     conf.level\n",
       "1 122 200 0.61 0.5017575 0.7182425 0.95      "
      ]
     },
     "metadata": {},
     "output_type": "display_data"
    }
   ],
   "source": [
    "require(epitools) # For the pois.approx function\n",
    "# Calculate the confidence interval for the mean of the Poisson distribution\n",
    "pois.approx(sum((0:4)*horsekick.tab), 200)\n",
    "# Which is as same as the definition\n",
    "# lhat = sum((0:4)*horsekicks)/200\n",
    "# lhat + c(-1,1)*1.96*sqrt(lhat/200)"
   ]
  },
  {
   "cell_type": "code",
   "execution_count": 175,
   "id": "326df739-5b1f-44fc-a1c8-e6882b897add",
   "metadata": {},
   "outputs": [
    {
     "data": {
      "text/html": [
       "0.11"
      ],
      "text/latex": [
       "0.11"
      ],
      "text/markdown": [
       "0.11"
      ],
      "text/plain": [
       "[1] 0.11"
      ]
     },
     "metadata": {},
     "output_type": "display_data"
    }
   ],
   "source": [
    "0.61 - 0.50 "
   ]
  },
  {
   "cell_type": "code",
   "execution_count": 177,
   "id": "f10220ad-0461-4c1d-9a84-b4a0255537b5",
   "metadata": {},
   "outputs": [
    {
     "data": {
      "text/html": [
       "0.108"
      ],
      "text/latex": [
       "0.108"
      ],
      "text/markdown": [
       "0.108"
      ],
      "text/plain": [
       "[1] 0.108"
      ]
     },
     "metadata": {},
     "output_type": "display_data"
    }
   ],
   "source": [
    "0.718 - 0.61"
   ]
  },
  {
   "cell_type": "code",
   "execution_count": 179,
   "id": "27793874-fe15-4495-ae3f-b228b699ec8e",
   "metadata": {},
   "outputs": [
    {
     "data": {
      "text/html": [
       "0.102"
      ],
      "text/latex": [
       "0.102"
      ],
      "text/markdown": [
       "0.102"
      ],
      "text/plain": [
       "[1] 0.102"
      ]
     },
     "metadata": {},
     "output_type": "display_data"
    }
   ],
   "source": [
    "0.61- 0.508"
   ]
  },
  {
   "cell_type": "code",
   "execution_count": 181,
   "id": "f5f61a47-7b61-451d-863b-b35e8318cb11",
   "metadata": {},
   "outputs": [
    {
     "data": {
      "text/html": [
       "0.114"
      ],
      "text/latex": [
       "0.114"
      ],
      "text/markdown": [
       "0.114"
      ],
      "text/plain": [
       "[1] 0.114"
      ]
     },
     "metadata": {},
     "output_type": "display_data"
    }
   ],
   "source": [
    "0.724 - 0.61"
   ]
  },
  {
   "cell_type": "markdown",
   "id": "dd52e05b-3b04-4219-aeb6-00af5f8de858",
   "metadata": {},
   "source": [
    "2. The `R` library `faraway` contains a Swedish `motorins`  data set. The variable `perd` is an average claim cost. Compute the MLE of the shape and scale assuming this data is from a Gamma distribution."
   ]
  },
  {
   "cell_type": "code",
   "execution_count": 23,
   "id": "e807c67e-b8f4-4e49-af91-4693a02d86f5",
   "metadata": {},
   "outputs": [],
   "source": [
    "clms = readRDS(\"clms_data.rds\") "
   ]
  },
  {
   "cell_type": "code",
   "execution_count": 183,
   "id": "d2aa54ca-9594-4eed-95cb-5cacb136fb59",
   "metadata": {},
   "outputs": [],
   "source": [
    "# Negative log-likelihood function of Gamma distribution\n",
    "nloglik2 = function(alpha, beta)\n",
    "  -sum(dgamma(clms, shape=alpha, scale=beta, log=TRUE))\n",
    "fit2 = mle(nloglik2, start=list(alpha=5, beta=3000),\n",
    "           nobs=length(clms), method = 'L-BFGS', lower = (alpha = 1e-6))"
   ]
  },
  {
   "cell_type": "code",
   "execution_count": 185,
   "id": "8c9850e1-b1af-4365-a18e-8dff630bf7f2",
   "metadata": {},
   "outputs": [
    {
     "data": {
      "text/html": [
       "<dl>\n",
       "\t<dt>$par</dt>\n",
       "\t\t<dd><dl class=dl-horizontal>\n",
       "\t<dt>alpha</dt>\n",
       "\t\t<dd>1.82242825007504</dd>\n",
       "\t<dt>beta</dt>\n",
       "\t\t<dd>2998.75833951741</dd>\n",
       "</dl>\n",
       "</dd>\n",
       "\t<dt>$value</dt>\n",
       "\t\t<dd>16945.0846042396</dd>\n",
       "\t<dt>$counts</dt>\n",
       "\t\t<dd><dl class=dl-horizontal>\n",
       "\t<dt>function</dt>\n",
       "\t\t<dd>10</dd>\n",
       "\t<dt>gradient</dt>\n",
       "\t\t<dd>10</dd>\n",
       "</dl>\n",
       "</dd>\n",
       "\t<dt>$convergence</dt>\n",
       "\t\t<dd>0</dd>\n",
       "\t<dt>$message</dt>\n",
       "\t\t<dd>'CONVERGENCE: REL_REDUCTION_OF_F &lt;= FACTR*EPSMCH'</dd>\n",
       "\t<dt>$hessian</dt>\n",
       "\t\t<dd><table>\n",
       "<thead><tr><th></th><th scope=col>alpha</th><th scope=col>beta</th></tr></thead>\n",
       "<tbody>\n",
       "\t<tr><th scope=row>alpha</th><td>1303.5509601</td><td>0.5992478691</td></tr>\n",
       "\t<tr><th scope=row>beta</th><td>   0.5992479</td><td>0.0003301466</td></tr>\n",
       "</tbody>\n",
       "</table>\n",
       "</dd>\n",
       "</dl>\n"
      ],
      "text/latex": [
       "\\begin{description}\n",
       "\\item[\\$par] \\begin{description*}\n",
       "\\item[alpha] 1.82242825007504\n",
       "\\item[beta] 2998.75833951741\n",
       "\\end{description*}\n",
       "\n",
       "\\item[\\$value] 16945.0846042396\n",
       "\\item[\\$counts] \\begin{description*}\n",
       "\\item[function] 10\n",
       "\\item[gradient] 10\n",
       "\\end{description*}\n",
       "\n",
       "\\item[\\$convergence] 0\n",
       "\\item[\\$message] 'CONVERGENCE: REL\\_REDUCTION\\_OF\\_F <= FACTR*EPSMCH'\n",
       "\\item[\\$hessian] \\begin{tabular}{r|ll}\n",
       "  & alpha & beta\\\\\n",
       "\\hline\n",
       "\talpha & 1303.5509601 & 0.5992478691\\\\\n",
       "\tbeta &    0.5992479 & 0.0003301466\\\\\n",
       "\\end{tabular}\n",
       "\n",
       "\\end{description}\n"
      ],
      "text/markdown": [
       "$par\n",
       ":   alpha\n",
       ":   1.82242825007504beta\n",
       ":   2998.75833951741\n",
       "\n",
       "\n",
       "$value\n",
       ":   16945.0846042396\n",
       "$counts\n",
       ":   function\n",
       ":   10gradient\n",
       ":   10\n",
       "\n",
       "\n",
       "$convergence\n",
       ":   0\n",
       "$message\n",
       ":   'CONVERGENCE: REL_REDUCTION_OF_F &lt;= FACTR*EPSMCH'\n",
       "$hessian\n",
       ":   \n",
       "| <!--/--> | alpha | beta |\n",
       "|---|---|---|\n",
       "| alpha | 1303.5509601 | 0.5992478691 |\n",
       "| beta |    0.5992479 | 0.0003301466 |\n",
       "\n",
       "\n",
       "\n",
       "\n"
      ],
      "text/plain": [
       "$par\n",
       "      alpha        beta \n",
       "   1.822428 2998.758340 \n",
       "\n",
       "$value\n",
       "[1] 16945.08\n",
       "\n",
       "$counts\n",
       "function gradient \n",
       "      10       10 \n",
       "\n",
       "$convergence\n",
       "[1] 0\n",
       "\n",
       "$message\n",
       "[1] \"CONVERGENCE: REL_REDUCTION_OF_F <= FACTR*EPSMCH\"\n",
       "\n",
       "$hessian\n",
       "             alpha         beta\n",
       "alpha 1303.5509601 0.5992478691\n",
       "beta     0.5992479 0.0003301466\n"
      ]
     },
     "metadata": {},
     "output_type": "display_data"
    }
   ],
   "source": [
    "# Using @details to check the convergent condition\n",
    "fit2@details"
   ]
  },
  {
   "cell_type": "code",
   "execution_count": 187,
   "id": "188dfba4-2c51-4c09-9ddc-707a67f94b92",
   "metadata": {},
   "outputs": [],
   "source": [
    "## In the case of non-convergence we can restart at the values we got so far\n",
    "fit3 = mle(nloglik2, start=as.list(coef(fit2)), nobs=length(clms))\n",
    "## fit3@details"
   ]
  },
  {
   "cell_type": "code",
   "execution_count": 189,
   "id": "01b7d104-6d14-4cc3-b20b-8f1aa3e61971",
   "metadata": {},
   "outputs": [
    {
     "data": {
      "text/plain": [
       "Maximum likelihood estimation\n",
       "\n",
       "Call:\n",
       "mle(minuslogl = nloglik2, start = as.list(coef(fit2)), nobs = length(clms))\n",
       "\n",
       "Coefficients:\n",
       "         Estimate  Std. Error\n",
       "alpha    1.822291   0.0685222\n",
       "beta  2998.757926 136.3521067\n",
       "\n",
       "-2 log L: 33890.17 "
      ]
     },
     "metadata": {},
     "output_type": "display_data"
    }
   ],
   "source": [
    "summary(fit3)"
   ]
  },
  {
   "cell_type": "markdown",
   "id": "7ead0bfa-0e14-4583-960b-26100dafbfee",
   "metadata": {},
   "source": [
    "3. Repeat 2. using instead a lognormal distribution (`dlnorm`). A random variable $X$ has a lognormal distribution, if its log ($\\log X$) has a Normal distribution. The parameters are the mean and standard deviation of the underlying Normal.\n",
    "\n",
    "    Verify that the maximum likelihood estimates correspond to the mean and standard deviation of the logged data."
   ]
  },
  {
   "cell_type": "code",
   "execution_count": 195,
   "id": "50ddad40-c805-4d61-b6b2-196410d8bcfd",
   "metadata": {},
   "outputs": [],
   "source": [
    "nloglik3 = function(mu, sigma)\n",
    "  -sum(dlnorm(clms, mu, sigma, log=TRUE))"
   ]
  },
  {
   "cell_type": "code",
   "execution_count": null,
   "id": "8c5e5e01-ef89-483e-a29a-892fb938eab8",
   "metadata": {},
   "outputs": [],
   "source": [
    "fit4 = mle(nloglik3, start=list(mu=8, sigma=1),\n",
    "           nobs=length(clms), method = \"L-BFGS\", lower = (mu = 1e-6))\n",
    "fit4@details"
   ]
  },
  {
   "cell_type": "code",
   "execution_count": 35,
   "id": "26c53319-741b-4bec-9403-53bd1d9a4ea2",
   "metadata": {},
   "outputs": [
    {
     "data": {
      "text/html": [
       "8.30733399116134"
      ],
      "text/latex": [
       "8.30733399116134"
      ],
      "text/markdown": [
       "8.30733399116134"
      ],
      "text/plain": [
       "[1] 8.307334"
      ]
     },
     "metadata": {},
     "output_type": "display_data"
    },
    {
     "data": {
      "text/html": [
       "0.707887832241782"
      ],
      "text/latex": [
       "0.707887832241782"
      ],
      "text/markdown": [
       "0.707887832241782"
      ],
      "text/plain": [
       "[1] 0.7078878"
      ]
     },
     "metadata": {},
     "output_type": "display_data"
    }
   ],
   "source": [
    "mean(log(clms))\n",
    "sd(log(clms))"
   ]
  },
  {
   "cell_type": "markdown",
   "id": "7ef1715f-75a8-4825-85b0-7b214b522bd3",
   "metadata": {},
   "source": [
    "4. For 2. above (Gamma MLE of claims data). Find confidence intervals for the parameters."
   ]
  },
  {
   "cell_type": "code",
   "execution_count": 63,
   "id": "41349325-3a86-48c9-9062-8148c8434e1b",
   "metadata": {},
   "outputs": [],
   "source": [
    "fit5 = suppressWarnings(mle(nloglik2, start=list(alpha=1, beta=3000),\n",
    "             nobs=length(clms), method=\"Nelder-Mead\"))"
   ]
  },
  {
   "cell_type": "code",
   "execution_count": 65,
   "id": "fc5f2802-f71f-4091-ad73-a2701c9f8179",
   "metadata": {},
   "outputs": [
    {
     "data": {
      "text/html": [
       "<dl>\n",
       "\t<dt>$par</dt>\n",
       "\t\t<dd><dl class=dl-horizontal>\n",
       "\t<dt>alpha</dt>\n",
       "\t\t<dd>2.15035647783825</dd>\n",
       "\t<dt>beta</dt>\n",
       "\t\t<dd>2421.5054730711</dd>\n",
       "</dl>\n",
       "</dd>\n",
       "\t<dt>$value</dt>\n",
       "\t\t<dd>16927.8428734071</dd>\n",
       "\t<dt>$counts</dt>\n",
       "\t\t<dd><dl class=dl-horizontal>\n",
       "\t<dt>function</dt>\n",
       "\t\t<dd>83</dd>\n",
       "\t<dt>gradient</dt>\n",
       "\t\t<dd>&lt;NA&gt;</dd>\n",
       "</dl>\n",
       "</dd>\n",
       "\t<dt>$convergence</dt>\n",
       "\t\t<dd>0</dd>\n",
       "\t<dt>$message</dt>\n",
       "\t\t<dd>NULL</dd>\n",
       "\t<dt>$hessian</dt>\n",
       "\t\t<dd><table>\n",
       "<thead><tr><th></th><th scope=col>alpha</th><th scope=col>beta</th></tr></thead>\n",
       "<tbody>\n",
       "\t<tr><th scope=row>alpha</th><td>1058.9631374</td><td>0.7421012924</td></tr>\n",
       "\t<tr><th scope=row>beta</th><td>   0.7421013</td><td>0.0006584742</td></tr>\n",
       "</tbody>\n",
       "</table>\n",
       "</dd>\n",
       "</dl>\n"
      ],
      "text/latex": [
       "\\begin{description}\n",
       "\\item[\\$par] \\begin{description*}\n",
       "\\item[alpha] 2.15035647783825\n",
       "\\item[beta] 2421.5054730711\n",
       "\\end{description*}\n",
       "\n",
       "\\item[\\$value] 16927.8428734071\n",
       "\\item[\\$counts] \\begin{description*}\n",
       "\\item[function] 83\n",
       "\\item[gradient] <NA>\n",
       "\\end{description*}\n",
       "\n",
       "\\item[\\$convergence] 0\n",
       "\\item[\\$message] NULL\n",
       "\\item[\\$hessian] \\begin{tabular}{r|ll}\n",
       "  & alpha & beta\\\\\n",
       "\\hline\n",
       "\talpha & 1058.9631374 & 0.7421012924\\\\\n",
       "\tbeta &    0.7421013 & 0.0006584742\\\\\n",
       "\\end{tabular}\n",
       "\n",
       "\\end{description}\n"
      ],
      "text/markdown": [
       "$par\n",
       ":   alpha\n",
       ":   2.15035647783825beta\n",
       ":   2421.5054730711\n",
       "\n",
       "\n",
       "$value\n",
       ":   16927.8428734071\n",
       "$counts\n",
       ":   function\n",
       ":   83gradient\n",
       ":   &lt;NA&gt;\n",
       "\n",
       "\n",
       "$convergence\n",
       ":   0\n",
       "$message\n",
       ":   NULL\n",
       "$hessian\n",
       ":   \n",
       "| <!--/--> | alpha | beta |\n",
       "|---|---|---|\n",
       "| alpha | 1058.9631374 | 0.7421012924 |\n",
       "| beta |    0.7421013 | 0.0006584742 |\n",
       "\n",
       "\n",
       "\n",
       "\n"
      ],
      "text/plain": [
       "$par\n",
       "      alpha        beta \n",
       "   2.150356 2421.505473 \n",
       "\n",
       "$value\n",
       "[1] 16927.84\n",
       "\n",
       "$counts\n",
       "function gradient \n",
       "      83       NA \n",
       "\n",
       "$convergence\n",
       "[1] 0\n",
       "\n",
       "$message\n",
       "NULL\n",
       "\n",
       "$hessian\n",
       "             alpha         beta\n",
       "alpha 1058.9631374 0.7421012924\n",
       "beta     0.7421013 0.0006584742\n"
      ]
     },
     "metadata": {},
     "output_type": "display_data"
    }
   ],
   "source": [
    "fit5@details"
   ]
  },
  {
   "cell_type": "code",
   "execution_count": 69,
   "id": "88b6f9a9-b070-46e0-bc89-83d0e2ce31fc",
   "metadata": {},
   "outputs": [
    {
     "name": "stdout",
     "output_type": "stream",
     "text": [
      "Profiling...\n"
     ]
    },
    {
     "data": {
      "text/html": [
       "<table>\n",
       "<thead><tr><th></th><th scope=col>2.5 %</th><th scope=col>97.5 %</th></tr></thead>\n",
       "<tbody>\n",
       "\t<tr><th scope=row>alpha</th><td>   2.021565</td><td>   2.283858</td></tr>\n",
       "\t<tr><th scope=row>beta</th><td>2262.746860</td><td>2595.926594</td></tr>\n",
       "</tbody>\n",
       "</table>\n"
      ],
      "text/latex": [
       "\\begin{tabular}{r|ll}\n",
       "  & 2.5 \\% & 97.5 \\%\\\\\n",
       "\\hline\n",
       "\talpha &    2.021565 &    2.283858\\\\\n",
       "\tbeta & 2262.746860 & 2595.926594\\\\\n",
       "\\end{tabular}\n"
      ],
      "text/markdown": [
       "\n",
       "| <!--/--> | 2.5 % | 97.5 % |\n",
       "|---|---|---|\n",
       "| alpha |    2.021565 |    2.283858 |\n",
       "| beta | 2262.746860 | 2595.926594 |\n",
       "\n"
      ],
      "text/plain": [
       "      2.5 %       97.5 %     \n",
       "alpha    2.021565    2.283858\n",
       "beta  2262.746860 2595.926594"
      ]
     },
     "metadata": {},
     "output_type": "display_data"
    }
   ],
   "source": [
    "suppressWarnings(confint(fit5))"
   ]
  },
  {
   "cell_type": "markdown",
   "id": "ac467fb0-f806-4cb5-8688-9c85b62ad849",
   "metadata": {},
   "source": [
    "5. For 2. above (Gamma MLE of claims data). Conduct a Likelihood Ratio test of $H_0: \\alpha=2$ versus $H_A: \\alpha\\neq 2$."
   ]
  },
  {
   "cell_type": "code",
   "execution_count": 110,
   "id": "86018571-f059-453b-95d7-d8b5bbb05257",
   "metadata": {},
   "outputs": [
    {
     "name": "stderr",
     "output_type": "stream",
     "text": [
      "Warning message in optim(start, f, method = method, hessian = TRUE, ...):\n",
      "\"bounds can only be used with method L-BFGS-B (or Brent)\""
     ]
    }
   ],
   "source": [
    "nloglik2 = function(alpha, beta)\n",
    "  -sum(dgamma(clms, shape=alpha, scale=beta, log=TRUE))"
   ]
  },
  {
   "cell_type": "code",
   "execution_count": 197,
   "id": "0bdb2eb1-51fc-473d-a94f-cb5cb8ec8e82",
   "metadata": {},
   "outputs": [
    {
     "name": "stderr",
     "output_type": "stream",
     "text": [
      "Warning message in optim(start, f, method = method, hessian = TRUE, ...):\n",
      "\"bounds can only be used with method L-BFGS-B (or Brent)\""
     ]
    }
   ],
   "source": [
    "fit2 = mle(nloglik2, start=list(alpha=5, beta=3000),\n",
    "           nobs=length(clms), method = 'Nelder-Mead', lower = list(alpha = 1e-6, beta = 1e-6))\n",
    "nloglik.null = function(beta)\n",
    "  nloglik2(2, beta)"
   ]
  },
  {
   "cell_type": "code",
   "execution_count": 199,
   "id": "7776f893-8951-4e04-93ba-6bf824a19254",
   "metadata": {},
   "outputs": [],
   "source": [
    "fit.null = mle(nloglik.null, start=list(beta=2400), \n",
    "               nobs=length(clms))"
   ]
  },
  {
   "cell_type": "code",
   "execution_count": 201,
   "id": "b822fbfd-215b-4b3e-aeaa-b71c3a42fd4a",
   "metadata": {},
   "outputs": [],
   "source": [
    "T1 = as.numeric(2*(logLik(fit2) - logLik(fit.null)))\n",
    "p.val = 1 - pchisq(T1,1)"
   ]
  },
  {
   "cell_type": "code",
   "execution_count": 203,
   "id": "7d52600b-37b1-488e-b671-1f8e772bf770",
   "metadata": {},
   "outputs": [
    {
     "data": {
      "text/html": [
       "-29.1929900915347"
      ],
      "text/latex": [
       "-29.1929900915347"
      ],
      "text/markdown": [
       "-29.1929900915347"
      ],
      "text/plain": [
       "[1] -29.19299"
      ]
     },
     "metadata": {},
     "output_type": "display_data"
    }
   ],
   "source": [
    "T1"
   ]
  },
  {
   "cell_type": "code",
   "execution_count": 205,
   "id": "6dabc870-ba63-4c92-937f-eb44bf81b774",
   "metadata": {},
   "outputs": [
    {
     "data": {
      "text/html": [
       "1"
      ],
      "text/latex": [
       "1"
      ],
      "text/markdown": [
       "1"
      ],
      "text/plain": [
       "[1] 1"
      ]
     },
     "metadata": {},
     "output_type": "display_data"
    }
   ],
   "source": [
    "p.val"
   ]
  },
  {
   "cell_type": "code",
   "execution_count": 100,
   "id": "fbaf4301-41a1-4c70-9975-da2870cc70a6",
   "metadata": {},
   "outputs": [
    {
     "data": {
      "text/plain": [
       "'log Lik.' -16945.08 (df=2)"
      ]
     },
     "metadata": {},
     "output_type": "display_data"
    }
   ],
   "source": [
    "logLik(fit2)"
   ]
  },
  {
   "cell_type": "code",
   "execution_count": 102,
   "id": "cd3a4e9d-6c42-420d-9b18-05d73b4e8524",
   "metadata": {},
   "outputs": [
    {
     "data": {
      "text/plain": [
       "'log Lik.' -16930.49 (df=1)"
      ]
     },
     "metadata": {},
     "output_type": "display_data"
    }
   ],
   "source": [
    "logLik(fit.null)"
   ]
  },
  {
   "cell_type": "code",
   "execution_count": 108,
   "id": "8063faa5-4149-4db4-b7a1-41c6b4177987",
   "metadata": {},
   "outputs": [
    {
     "data": {
      "text/plain": [
       "   Min. 1st Qu.  Median    Mean 3rd Qu.    Max. \n",
       "     72    2643    4375    5206    5985   31442 "
      ]
     },
     "metadata": {},
     "output_type": "display_data"
    }
   ],
   "source": [
    "summary(clms) "
   ]
  },
  {
   "cell_type": "code",
   "execution_count": 116,
   "id": "ab8b1ae7-64d4-48da-a2ac-06a58c4e5851",
   "metadata": {},
   "outputs": [
    {
     "data": {
      "image/png": "[encoded data removed]",
      "text/plain": [
       "Plot with title \"Distribution of clms Data\""
      ]
     },
     "metadata": {},
     "output_type": "display_data"
    }
   ],
   "source": [
    "hist(clms, breaks=30, col='blue', border='black', \n",
    "     main='Distribution of clms Data', \n",
    "     xlab='Data Values', ylab='Frequency')"
   ]
  },
  {
   "cell_type": "code",
   "execution_count": 130,
   "id": "b2610439-7ae5-4c43-a147-c333994bbeee",
   "metadata": {},
   "outputs": [
    {
     "name": "stderr",
     "output_type": "stream",
     "text": [
      "Warning message in optim(start, f, method = method, hessian = TRUE, ...):\n",
      "\"bounds can only be used with method L-BFGS-B (or Brent)\""
     ]
    }
   ],
   "source": [
    "clms_clean = clms[clms <= 15000]\n",
    "nloglik2 = function(alpha, beta)\n",
    "  -sum(dgamma(clms_clean, shape=alpha, scale=beta, log=TRUE))\n",
    "fit2 = mle(nloglik2, start=list(alpha=5, beta=3000),\n",
    "           nobs=length(clms_clean), method = 'Nelder-Mead', lower = list(alpha = 1e-6, beta = 1e-6))\n",
    "nloglik.null = function(beta)\n",
    "  nloglik2(2, beta)\n",
    "fit.null = mle(nloglik.null, start=list(beta=2400), \n",
    "               nobs=length(clms_clean))\n",
    "T1 = as.numeric(2*(logLik(fit2) - logLik(fit.null)))\n",
    "p.val = 1 - pchisq(T1,1)"
   ]
  },
  {
   "cell_type": "code",
   "execution_count": 134,
   "id": "34465243-b773-481b-a04e-1ab65299b68f",
   "metadata": {},
   "outputs": [
    {
     "data": {
      "text/html": [
       "136.595738238557"
      ],
      "text/latex": [
       "136.595738238557"
      ],
      "text/markdown": [
       "136.595738238557"
      ],
      "text/plain": [
       "[1] 136.5957"
      ]
     },
     "metadata": {},
     "output_type": "display_data"
    },
    {
     "data": {
      "text/html": [
       "0"
      ],
      "text/latex": [
       "0"
      ],
      "text/markdown": [
       "0"
      ],
      "text/plain": [
       "[1] 0"
      ]
     },
     "metadata": {},
     "output_type": "display_data"
    }
   ],
   "source": [
    "T1\n",
    "p.val"
   ]
  },
  {
   "cell_type": "code",
   "execution_count": null,
   "id": "85be5a03-be8c-4332-9c3c-f2e1a145d2be",
   "metadata": {},
   "outputs": [],
   "source": [
    "# Here we can see the value of p is almost zero, that means we should reject the H0. That means alpha is not two. "
   ]
  },
  {
   "cell_type": "code",
   "execution_count": 132,
   "id": "e5db5e8b-f2c1-4b8a-be05-ad5cbf3829a9",
   "metadata": {},
   "outputs": [
    {
     "data": {
      "image/png": "[encoded data removed]",
      "text/plain": [
       "Plot with title \"Distribution of clms Data\""
      ]
     },
     "metadata": {},
     "output_type": "display_data"
    }
   ],
   "source": [
    "hist(clms_clean, breaks=30, col='blue', border='black', \n",
    "     main='Distribution of clms Data', \n",
    "     xlab='Data Values', ylab='Frequency')"
   ]
  },
  {
   "cell_type": "markdown",
   "id": "37984a0b-edf3-457c-9d31-844edd70be75",
   "metadata": {},
   "source": [
    "6. The `crabsmolt.csv` data consists of before and after molting measurements on `r nrow(molt)` female Dungeness crabs. Crabs molt their shells periodically in order to grow.\n",
    "\n",
    "    (Harder) Using `mle` estimate the slope, intercept and residual standard error of a simple linear regression of `postsz` on `presz`. Compare to estimates obtained using `lm`."
   ]
  },
  {
   "cell_type": "code",
   "execution_count": 138,
   "id": "71c18e23-91bc-4d81-a179-a4a3e642a700",
   "metadata": {},
   "outputs": [],
   "source": [
    "molt = read.csv(\"crabsmolt.csv\")"
   ]
  },
  {
   "cell_type": "code",
   "execution_count": 159,
   "id": "479fb8ae-5119-424d-b273-f4c9c30aa345",
   "metadata": {},
   "outputs": [
    {
     "data": {
      "text/html": [
       "<dl>\n",
       "\t<dt>$par</dt>\n",
       "\t\t<dd><dl class=dl-horizontal>\n",
       "\t<dt>alpha</dt>\n",
       "\t\t<dd>25.80272339565</dd>\n",
       "\t<dt>beta</dt>\n",
       "\t\t<dd>0.913963657488511</dd>\n",
       "\t<dt>sigma</dt>\n",
       "\t\t<dd>2.02477750321585</dd>\n",
       "</dl>\n",
       "</dd>\n",
       "\t<dt>$value</dt>\n",
       "\t\t<dd>1002.71901325715</dd>\n",
       "\t<dt>$counts</dt>\n",
       "\t\t<dd><dl class=dl-horizontal>\n",
       "\t<dt>function</dt>\n",
       "\t\t<dd>82</dd>\n",
       "\t<dt>gradient</dt>\n",
       "\t\t<dd>20</dd>\n",
       "</dl>\n",
       "</dd>\n",
       "\t<dt>$convergence</dt>\n",
       "\t\t<dd>0</dd>\n",
       "\t<dt>$message</dt>\n",
       "\t\t<dd>NULL</dd>\n",
       "\t<dt>$hessian</dt>\n",
       "\t\t<dd><table>\n",
       "<thead><tr><th></th><th scope=col>alpha</th><th scope=col>beta</th><th scope=col>sigma</th></tr></thead>\n",
       "<tbody>\n",
       "\t<tr><th scope=row>alpha</th><td> 1.151297e+02</td><td>1.487612e+04 </td><td>-2.374492e-04</td></tr>\n",
       "\t<tr><th scope=row>beta</th><td> 1.487612e+04</td><td>1.951086e+06 </td><td> 4.621654e-04</td></tr>\n",
       "\t<tr><th scope=row>sigma</th><td>-2.374492e-04</td><td>4.621654e-04 </td><td> 2.302643e+02</td></tr>\n",
       "</tbody>\n",
       "</table>\n",
       "</dd>\n",
       "</dl>\n"
      ],
      "text/latex": [
       "\\begin{description}\n",
       "\\item[\\$par] \\begin{description*}\n",
       "\\item[alpha] 25.80272339565\n",
       "\\item[beta] 0.913963657488511\n",
       "\\item[sigma] 2.02477750321585\n",
       "\\end{description*}\n",
       "\n",
       "\\item[\\$value] 1002.71901325715\n",
       "\\item[\\$counts] \\begin{description*}\n",
       "\\item[function] 82\n",
       "\\item[gradient] 20\n",
       "\\end{description*}\n",
       "\n",
       "\\item[\\$convergence] 0\n",
       "\\item[\\$message] NULL\n",
       "\\item[\\$hessian] \\begin{tabular}{r|lll}\n",
       "  & alpha & beta & sigma\\\\\n",
       "\\hline\n",
       "\talpha &  1.151297e+02 & 1.487612e+04  & -2.374492e-04\\\\\n",
       "\tbeta &  1.487612e+04 & 1.951086e+06  &  4.621654e-04\\\\\n",
       "\tsigma & -2.374492e-04 & 4.621654e-04  &  2.302643e+02\\\\\n",
       "\\end{tabular}\n",
       "\n",
       "\\end{description}\n"
      ],
      "text/markdown": [
       "$par\n",
       ":   alpha\n",
       ":   25.80272339565beta\n",
       ":   0.913963657488511sigma\n",
       ":   2.02477750321585\n",
       "\n",
       "\n",
       "$value\n",
       ":   1002.71901325715\n",
       "$counts\n",
       ":   function\n",
       ":   82gradient\n",
       ":   20\n",
       "\n",
       "\n",
       "$convergence\n",
       ":   0\n",
       "$message\n",
       ":   NULL\n",
       "$hessian\n",
       ":   \n",
       "| <!--/--> | alpha | beta | sigma |\n",
       "|---|---|---|---|\n",
       "| alpha |  1.151297e+02 | 1.487612e+04  | -2.374492e-04 |\n",
       "| beta |  1.487612e+04 | 1.951086e+06  |  4.621654e-04 |\n",
       "| sigma | -2.374492e-04 | 4.621654e-04  |  2.302643e+02 |\n",
       "\n",
       "\n",
       "\n",
       "\n"
      ],
      "text/plain": [
       "$par\n",
       "     alpha       beta      sigma \n",
       "25.8027234  0.9139637  2.0247775 \n",
       "\n",
       "$value\n",
       "[1] 1002.719\n",
       "\n",
       "$counts\n",
       "function gradient \n",
       "      82       20 \n",
       "\n",
       "$convergence\n",
       "[1] 0\n",
       "\n",
       "$message\n",
       "NULL\n",
       "\n",
       "$hessian\n",
       "              alpha         beta         sigma\n",
       "alpha  1.151297e+02 1.487612e+04 -2.374492e-04\n",
       "beta   1.487612e+04 1.951086e+06  4.621654e-04\n",
       "sigma -2.374492e-04 4.621654e-04  2.302643e+02\n"
      ]
     },
     "metadata": {},
     "output_type": "display_data"
    }
   ],
   "source": [
    "# Define the negative loglikelihood function for linear regression\n",
    "nloglik4 = function(alpha, beta, sigma)\n",
    "  -sum(dnorm(molt$postsz, mean=alpha+beta*molt$presz,\n",
    "             sd=sigma, log=TRUE))\n",
    "fit5 = suppressWarnings(mle(nloglik4, start=list(alpha=0, beta=1, sigma=1),\n",
    "           nobs=nrow(molt)))\n",
    "fit5@details "
   ]
  },
  {
   "cell_type": "code",
   "execution_count": 161,
   "id": "9670efab-525e-41c3-80b2-0458d50b80a3",
   "metadata": {},
   "outputs": [
    {
     "data": {
      "text/plain": [
       "\n",
       "Call:\n",
       "lm(formula = postsz ~ presz, data = molt)\n",
       "\n",
       "Residuals:\n",
       "     Min       1Q   Median       3Q      Max \n",
       "-15.4269  -1.1611  -0.0669   1.2169   5.9251 \n",
       "\n",
       "Coefficients:\n",
       "             Estimate Std. Error t value Pr(>|t|)    \n",
       "(Intercept) 25.802580   0.767201   33.63   <2e-16 ***\n",
       "presz        0.913965   0.005893  155.08   <2e-16 ***\n",
       "---\n",
       "Signif. codes:  0 '***' 0.001 '**' 0.01 '*' 0.05 '.' 0.1 ' ' 1\n",
       "\n",
       "Residual standard error: 2.029 on 470 degrees of freedom\n",
       "Multiple R-squared:  0.9808,\tAdjusted R-squared:  0.9808 \n",
       "F-statistic: 2.405e+04 on 1 and 470 DF,  p-value: < 2.2e-16\n"
      ]
     },
     "metadata": {},
     "output_type": "display_data"
    }
   ],
   "source": [
    "# Here lm refers to the linear regression method. \n",
    "fit.lm = lm(postsz~presz, data=molt)\n",
    "summary(fit.lm)"
   ]
  },
  {
   "cell_type": "code",
   "execution_count": null,
   "id": "4b730736-0f7c-4480-ae07-eb0bd55f7669",
   "metadata": {},
   "outputs": [],
   "source": []
  },
  {
   "cell_type": "code",
   "execution_count": null,
   "id": "d4114f89-3a8f-4f6b-9f53-0d94736e72d9",
   "metadata": {},
   "outputs": [],
   "source": []
  },
  {
   "cell_type": "code",
   "execution_count": null,
   "id": "5d5b2984-d35b-482a-937a-8370307c4158",
   "metadata": {},
   "outputs": [],
   "source": []
  },
  {
   "cell_type": "code",
   "execution_count": null,
   "id": "f9d714f8-eccd-4749-b58d-b65808c95286",
   "metadata": {},
   "outputs": [],
   "source": []
  },
  {
   "cell_type": "code",
   "execution_count": null,
   "id": "2dbc9296-f031-44cc-b982-ad310d1842da",
   "metadata": {},
   "outputs": [],
   "source": []
  },
  {
   "cell_type": "code",
   "execution_count": null,
   "id": "d966ccad-40b2-4db2-b9e3-d10e6df763cf",
   "metadata": {},
   "outputs": [],
   "source": []
  }
 ],
 "metadata": {
  "kernelspec": {
   "display_name": "R",
   "language": "R",
   "name": "ir"
  },
  "language_info": {
   "codemirror_mode": "r",
   "file_extension": ".r",
   "mimetype": "text/x-r-source",
   "name": "R",
   "pygments_lexer": "r",
   "version": "3.6.1"
  }
 },
 "nbformat": 4,
 "nbformat_minor": 5
}
