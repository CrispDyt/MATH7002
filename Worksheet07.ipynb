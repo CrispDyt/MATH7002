{
 "cells": [
  {
   "cell_type": "markdown",
   "id": "b7cc97c0-7fb9-4397-81a2-527261917ea2",
   "metadata": {},
   "source": [
    "# MATH7002 Advanced Statistical methods\n",
    "## Worksheet 7"
   ]
  },
  {
   "cell_type": "code",
   "execution_count": null,
   "id": "6ddad311",
   "metadata": {
    "child": "Setup.Rmd",
    "lines_to_next_cell": 2
   },
   "outputs": [],
   "source": []
  },
  {
   "cell_type": "markdown",
   "id": "4da53b85-9aab-4268-94d1-b1e5bba47ca0",
   "metadata": {},
   "source": [
    "1. Using the code in Lectures, how many water caches are needed to cross a desert 3 units wide?"
   ]
  },
  {
   "cell_type": "code",
   "execution_count": 1,
   "id": "adc4a095-036c-4fe2-ad0f-9509ff3e0b2c",
   "metadata": {},
   "outputs": [],
   "source": [
    "Jeep.distance = function(r) sum(1/(2*(1:r) - 1))"
   ]
  },
  {
   "cell_type": "code",
   "execution_count": 7,
   "id": "e736af38-7f7a-436e-93c9-b4f5062282e3",
   "metadata": {},
   "outputs": [],
   "source": [
    "Cross.desert = function(d){\n",
    "    # i is the number of water cache\n",
    "    i = 1\n",
    "    # a is the distance we can travel based on the water cache\n",
    "    a = 1\n",
    "    # a < d means we need to increase the number of water cache\n",
    "    while(a < d){\n",
    "        i = i + 1\n",
    "        # here 1 / (2*i - 1) is the increament of distance after we build the new \n",
    "        # water cache\n",
    "        a = a + 1 / (2 * i - 1)\n",
    "    }\n",
    "    return(i)\n",
    "}"
   ]
  },
  {
   "cell_type": "code",
   "execution_count": 8,
   "id": "0cb5004f-d4e0-472e-8338-9216fc82ada8",
   "metadata": {},
   "outputs": [
    {
     "data": {
      "text/html": [
       "8"
      ],
      "text/latex": [
       "8"
      ],
      "text/markdown": [
       "8"
      ],
      "text/plain": [
       "[1] 8"
      ]
     },
     "metadata": {},
     "output_type": "display_data"
    }
   ],
   "source": [
    "Cross.desert(2)"
   ]
  },
  {
   "cell_type": "code",
   "execution_count": 9,
   "id": "63018ad4-2608-4b1d-8e49-449a05916b4b",
   "metadata": {},
   "outputs": [
    {
     "data": {
      "text/html": [
       "57"
      ],
      "text/latex": [
       "57"
      ],
      "text/markdown": [
       "57"
      ],
      "text/plain": [
       "[1] 57"
      ]
     },
     "metadata": {},
     "output_type": "display_data"
    }
   ],
   "source": [
    "Cross.desert(3)"
   ]
  },
  {
   "cell_type": "markdown",
   "id": "415b4c6c-007c-416f-bc11-1258f5264cf3",
   "metadata": {},
   "source": [
    "2. How many for 4 units? (You can try larger the 4, but it will rapidly increase in time taken)"
   ]
  },
  {
   "cell_type": "code",
   "execution_count": 10,
   "id": "b154c87c-7df3-4685-8619-ba84a604659e",
   "metadata": {},
   "outputs": [
    {
     "data": {
      "text/html": [
       "419"
      ],
      "text/latex": [
       "419"
      ],
      "text/markdown": [
       "419"
      ],
      "text/plain": [
       "[1] 419"
      ]
     },
     "metadata": {},
     "output_type": "display_data"
    }
   ],
   "source": [
    "Cross.desert(4)"
   ]
  },
  {
   "cell_type": "code",
   "execution_count": 11,
   "id": "fadc1bad-dc7b-444c-9914-8f4cf2e2a0b6",
   "metadata": {},
   "outputs": [],
   "source": [
    "Cross.desert(50)"
   ]
  },
  {
   "cell_type": "raw",
   "id": "21798cb1-98e0-4649-b56a-58049286e1b2",
   "metadata": {},
   "source": []
  },
  {
   "cell_type": "markdown",
   "id": "ac49fa35",
   "metadata": {},
   "source": [
    "## Note\n",
    "\n",
    "$$\\sum_{i=1}^n \\frac{1}{2i-1} = H_{2n-1} - \\frac{1}{2} H_{n-1}$$\n",
    "\n",
    "where $H_n$ is the $n$-th *Harmonic Number*;\n",
    "\n",
    "$$H_n = \\sum_{i=1}^n \\frac{1}{i}$$\n",
    "\n",
    "In `R` we can compute Harmonic numbers using"
   ]
  },
  {
   "cell_type": "code",
   "execution_count": 12,
   "id": "4a4f46cd",
   "metadata": {},
   "outputs": [],
   "source": [
    "harmonic = function(x) digamma(x+1) - digamma(1)"
   ]
  },
  {
   "cell_type": "code",
   "execution_count": 15,
   "id": "a82c94e0-fe2f-4002-aed5-038cfebddfa2",
   "metadata": {},
   "outputs": [],
   "source": [
    "jeep2 = function(x) harmonic(2*x-1) - harmonic(x-1)/2"
   ]
  },
  {
   "cell_type": "code",
   "execution_count": 17,
   "id": "5039072e-f25c-4f58-ab90-2f64b934a07a",
   "metadata": {},
   "outputs": [
    {
     "data": {
      "text/html": [
       "1.95513375513375"
      ],
      "text/latex": [
       "1.95513375513375"
      ],
      "text/markdown": [
       "1.95513375513375"
      ],
      "text/plain": [
       "[1] 1.955134"
      ]
     },
     "metadata": {},
     "output_type": "display_data"
    }
   ],
   "source": [
    "# If we just have seven water cache, the distance we can travel is 1.952\n",
    "jeep2(7)"
   ]
  },
  {
   "cell_type": "code",
   "execution_count": 16,
   "id": "0e26c918-ddbe-4fda-95e4-8f70fd297e87",
   "metadata": {},
   "outputs": [
    {
     "data": {
      "text/html": [
       "2.02180042180042"
      ],
      "text/latex": [
       "2.02180042180042"
      ],
      "text/markdown": [
       "2.02180042180042"
      ],
      "text/plain": [
       "[1] 2.0218"
      ]
     },
     "metadata": {},
     "output_type": "display_data"
    }
   ],
   "source": [
    "# If we have 8, the distance we can travel is 2.02 \n",
    "jeep2(8)"
   ]
  },
  {
   "cell_type": "markdown",
   "id": "93ed8b2e-0f76-4f77-93dd-9efb117cc8b1",
   "metadata": {},
   "source": [
    "3. Write a function (`jeep2`) to compute the distance travelled using $n$ water caches using this function."
   ]
  },
  {
   "cell_type": "code",
   "execution_count": 23,
   "id": "d961370e-a314-4051-890f-8c074eae4437",
   "metadata": {},
   "outputs": [
    {
     "data": {
      "image/png": "[encoded data removed]",
      "text/plain": [
       "plot without title"
      ]
     },
     "metadata": {
      "image/png": {
       "height": 420,
       "width": 420
      }
     },
     "output_type": "display_data"
    }
   ],
   "source": [
    "# The trend of water cache and the travel distance \n",
    "plot(1:100, sapply(1:100, jeep2), type='l')"
   ]
  },
  {
   "cell_type": "code",
   "execution_count": 26,
   "id": "0d462b4d-cae3-4307-9151-50bc6a138806",
   "metadata": {},
   "outputs": [
    {
     "name": "stderr",
     "output_type": "stream",
     "text": [
      "Timing stopped at: 65.48 0 65.47\n",
      "\n"
     ]
    }
   ],
   "source": [
    "# record the time you cost for this line of code \n",
    "system.time(Cross.desert(20))"
   ]
  },
  {
   "cell_type": "markdown",
   "id": "163ee283-7ec9-4da2-a83c-e18528f7dd41",
   "metadata": {},
   "source": [
    "4. The `uniroot` function can be used to find the roots of nonlinear equations. For example, we can find the value of `x` such that `jeep2(x)=2` using the following code. Find the number of caches needed to cross a desert of width 10."
   ]
  },
  {
   "cell_type": "code",
   "execution_count": 27,
   "id": "961b0533",
   "metadata": {
    "tags": [
     "remove_cell"
    ]
   },
   "outputs": [],
   "source": [
    "jeep2 = function(n) harmonic(2*n-1) - harmonic(n-1)/2"
   ]
  },
  {
   "cell_type": "code",
   "execution_count": 29,
   "id": "9db4bc23",
   "metadata": {},
   "outputs": [
    {
     "data": {
      "text/html": [
       "<dl>\n",
       "\t<dt>$root</dt>\n",
       "\t\t<dd>68100150.0148522</dd>\n",
       "\t<dt>$f.root</dt>\n",
       "\t\t<dd>1.77635683940025e-15</dd>\n",
       "\t<dt>$iter</dt>\n",
       "\t\t<dd>31</dd>\n",
       "\t<dt>$init.it</dt>\n",
       "\t\t<dd>23</dd>\n",
       "\t<dt>$estim.prec</dt>\n",
       "\t\t<dd>6.10649585723877e-05</dd>\n",
       "</dl>\n"
      ],
      "text/latex": [
       "\\begin{description}\n",
       "\\item[\\$root] 68100150.0148522\n",
       "\\item[\\$f.root] 1.77635683940025e-15\n",
       "\\item[\\$iter] 31\n",
       "\\item[\\$init.it] 23\n",
       "\\item[\\$estim.prec] 6.10649585723877e-05\n",
       "\\end{description}\n"
      ],
      "text/markdown": [
       "$root\n",
       ":   68100150.0148522\n",
       "$f.root\n",
       ":   1.77635683940025e-15\n",
       "$iter\n",
       ":   31\n",
       "$init.it\n",
       ":   23\n",
       "$estim.prec\n",
       ":   6.10649585723877e-05\n",
       "\n",
       "\n"
      ],
      "text/plain": [
       "$root\n",
       "[1] 68100150\n",
       "\n",
       "$f.root\n",
       "[1] 1.776357e-15\n",
       "\n",
       "$iter\n",
       "[1] 31\n",
       "\n",
       "$init.it\n",
       "[1] 23\n",
       "\n",
       "$estim.prec\n",
       "[1] 6.106496e-05\n"
      ]
     },
     "metadata": {},
     "output_type": "display_data"
    }
   ],
   "source": [
    "uniroot(function(x) jeep2(x)-10, interval=c(1,1000), extendInt = \"upX\")"
   ]
  },
  {
   "cell_type": "markdown",
   "id": "fe01f3c8",
   "metadata": {},
   "source": [
    "5. In a particular workshop 4 workers (A-D) are to be allocated to\n",
    "  4 machines (W-Z). The following table shows the measures of\n",
    "  efficiency of each worker on each machine as a *cost*. Find the\n",
    "  optimal allocation of workers to machines."
   ]
  },
  {
   "cell_type": "code",
   "execution_count": 30,
   "id": "3550060f-45f6-4221-9495-d231e1c5aaf0",
   "metadata": {},
   "outputs": [],
   "source": [
    "library(clue)"
   ]
  },
  {
   "cell_type": "code",
   "execution_count": 36,
   "id": "df6c5fab",
   "metadata": {
    "eval": true,
    "tags": [
     "remove_input"
    ]
   },
   "outputs": [
    {
     "data": {
      "text/plain": [
       "Optimal assignment:\n",
       "1 => 4, 2 => 3, 3 => 2, 4 => 1"
      ]
     },
     "metadata": {},
     "output_type": "display_data"
    }
   ],
   "source": [
    "mach = matrix(c(6, 5, 3, 2, \n",
    "                7, 4, 2, 3, \n",
    "                9, 3, 5, 4, \n",
    "                7, 2, 6, 7) , ncol=4, byrow=TRUE)\n",
    "\n",
    "rownames(mach) <- LETTERS[1:4] \n",
    "colnames(mach) <- LETTERS[23:26] \n",
    "solve_LSAP(mach, maximum = FALSE)"
   ]
  },
  {
   "cell_type": "code",
   "execution_count": null,
   "id": "2353b2ef-d235-4bf8-bf5c-0830edcdd19a",
   "metadata": {},
   "outputs": [],
   "source": []
  },
  {
   "cell_type": "markdown",
   "id": "499beaf8",
   "metadata": {},
   "source": [
    "6. The chief detective of the city's investigation bureau has just been\n",
    "assigned 5 new cases (A-E). At present, 5 members of the detective staff\n",
    "have yet to be assigned investigations (1--5). \n",
    "The cases just handed to the chief detective require different types of experience and the detectives have different levels of suitability for them.\n",
    "\n",
    "The chief detective has assigned *performance* values of each detective for each case as in the following table. (larger is better)"
   ]
  },
  {
   "cell_type": "code",
   "execution_count": 37,
   "id": "6a981ac2",
   "metadata": {
    "eval": true,
    "tags": [
     "remove_input"
    ]
   },
   "outputs": [
    {
     "data": {
      "text/plain": [
       "Optimal assignment:\n",
       "1 => 1, 2 => 2, 3 => 3, 4 => 5, 5 => 4"
      ]
     },
     "metadata": {},
     "output_type": "display_data"
    }
   ],
   "source": [
    "detect <- matrix(c(6, 7, 0, 0, 4, \n",
    "               8, 9, 0, 2, 4, \n",
    "               2, 1, 6, 4, 5, \n",
    "               4, 3, 5, 5, 7, \n",
    "               0, 5, 4, 6, 5)  , ncol=5, byrow=TRUE)\n",
    "rownames(detect) <- LETTERS[1:5]\n",
    "colnames(detect) = 1:5\n",
    "#kable(detect, caption=\"\")\n",
    "solve_LSAP(detect, maximum = TRUE)"
   ]
  },
  {
   "cell_type": "markdown",
   "id": "8510526b",
   "metadata": {},
   "source": [
    "Assuming the performance measure is additive, using the Hungarian\n",
    "algorithm, find an assignment of\n",
    "detectives to cases which **maximises** the total value of the performance\n",
    "measure."
   ]
  },
  {
   "cell_type": "code",
   "execution_count": 38,
   "id": "37853100-44bf-4e83-831d-52ab642e7bd7",
   "metadata": {},
   "outputs": [],
   "source": [
    "# Recap the Hungarian Algorithm\n",
    "# Step1: subtracts each row's minimum from all elements in that row \n",
    "# sweep(), \n",
    "# Here the second parameter 1 means the rows\n",
    "X = sweep(mach, 1, apply(mach, 1, min)) # Every row has at least one zero\n",
    "# Step2: subtracts each column's minimum from all elements in that column \n",
    "# Here we need to pass X, which is the result comes from the first step\n",
    "X = sweep(X, 2, apply(X, 2, min))"
   ]
  },
  {
   "cell_type": "code",
   "execution_count": 39,
   "id": "20255070-a5c1-47d7-a42c-f292a25d2a24",
   "metadata": {},
   "outputs": [
    {
     "data": {
      "text/html": [
       "<table class=\"dataframe\">\n",
       "<caption>A matrix: 4 × 4 of type dbl</caption>\n",
       "<thead>\n",
       "\t<tr><th></th><th scope=col>W</th><th scope=col>X</th><th scope=col>Y</th><th scope=col>Z</th></tr>\n",
       "</thead>\n",
       "<tbody>\n",
       "\t<tr><th scope=row>A</th><td>0</td><td>3</td><td>1</td><td>0</td></tr>\n",
       "\t<tr><th scope=row>B</th><td>1</td><td>2</td><td>0</td><td>1</td></tr>\n",
       "\t<tr><th scope=row>C</th><td>2</td><td>0</td><td>2</td><td>1</td></tr>\n",
       "\t<tr><th scope=row>D</th><td>1</td><td>0</td><td>4</td><td>5</td></tr>\n",
       "</tbody>\n",
       "</table>\n"
      ],
      "text/latex": [
       "A matrix: 4 × 4 of type dbl\n",
       "\\begin{tabular}{r|llll}\n",
       "  & W & X & Y & Z\\\\\n",
       "\\hline\n",
       "\tA & 0 & 3 & 1 & 0\\\\\n",
       "\tB & 1 & 2 & 0 & 1\\\\\n",
       "\tC & 2 & 0 & 2 & 1\\\\\n",
       "\tD & 1 & 0 & 4 & 5\\\\\n",
       "\\end{tabular}\n"
      ],
      "text/markdown": [
       "\n",
       "A matrix: 4 × 4 of type dbl\n",
       "\n",
       "| <!--/--> | W | X | Y | Z |\n",
       "|---|---|---|---|---|\n",
       "| A | 0 | 3 | 1 | 0 |\n",
       "| B | 1 | 2 | 0 | 1 |\n",
       "| C | 2 | 0 | 2 | 1 |\n",
       "| D | 1 | 0 | 4 | 5 |\n",
       "\n"
      ],
      "text/plain": [
       "  W X Y Z\n",
       "A 0 3 1 0\n",
       "B 1 2 0 1\n",
       "C 2 0 2 1\n",
       "D 1 0 4 5"
      ]
     },
     "metadata": {},
     "output_type": "display_data"
    }
   ],
   "source": [
    "X"
   ]
  },
  {
   "cell_type": "code",
   "execution_count": null,
   "id": "6d8ad796-beba-436e-b664-2acb0912c824",
   "metadata": {},
   "outputs": [],
   "source": []
  },
  {
   "cell_type": "code",
   "execution_count": null,
   "id": "b5411c4a-28bf-4ad5-a845-9002cd2739c6",
   "metadata": {},
   "outputs": [],
   "source": []
  }
 ],
 "metadata": {
  "jupytext": {
   "cell_metadata_filter": "tags,eval,child,-all",
   "formats": "Rmd,ipynb",
   "notebook_metadata_filter": "-all"
  },
  "kernelspec": {
   "display_name": "R",
   "language": "R",
   "name": "ir"
  },
  "language_info": {
   "codemirror_mode": "r",
   "file_extension": ".r",
   "mimetype": "text/x-r-source",
   "name": "R",
   "pygments_lexer": "r",
   "version": "4.5.1"
  }
 },
 "nbformat": 4,
 "nbformat_minor": 5
}
