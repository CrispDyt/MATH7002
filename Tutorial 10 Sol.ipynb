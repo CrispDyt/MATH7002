{
 "cells": [
  {
   "cell_type": "markdown",
   "id": "33cd2368-3522-4e5f-bf70-679a59ecceb7",
   "metadata": {},
   "source": [
    "# MATH7002 Advanced Statistical methods\n",
    "## Worksheet 10: Solutions"
   ]
  },
  {
   "cell_type": "markdown",
   "id": "2406df46-d5e9-4067-98f6-989ba597cbe8",
   "metadata": {},
   "source": [
    "## Q1"
   ]
  },
  {
   "cell_type": "code",
   "execution_count": null,
   "id": "d7158a9b-202f-4933-a48e-0e68f83b8564",
   "metadata": {},
   "outputs": [],
   "source": [
    "numd = c(1,4,9,13,18,20)"
   ]
  },
  {
   "cell_type": "code",
   "execution_count": null,
   "id": "ccbfbc6d",
   "metadata": {
    "lines_to_next_cell": 2
   },
   "outputs": [],
   "source": [
    "make.prior = function(th, lower, upper) {\n",
    "  pr = (th > lower-0.0001) & (th < upper+0.0001)\n",
    "  return(pr/sum(pr))\n",
    "}"
   ]
  },
  {
   "cell_type": "code",
   "execution_count": null,
   "id": "3f3df7a4",
   "metadata": {},
   "outputs": [],
   "source": [
    "compute.posterior = function(y,n) {\n",
    "  theta = seq(0,1,length=51)\n",
    "  prior = make.prior(theta, 0, 0.9)\n",
    "  likelihhod = sapply(theta, function(x) dbinom(y,n,x))\n",
    "  posterior = prior*likelihhod\n",
    "  posterior = posterior/sum(posterior)\n",
    "  op = par(mfrow=c(2,2), pch=16)\n",
    "  plot(theta, prior)\n",
    "  plot(theta, likelihhod)\n",
    "  plot(theta, posterior)\n",
    "  par(op)\n",
    "  return(posterior)\n",
    "}"
   ]
  },
  {
   "cell_type": "code",
   "execution_count": null,
   "id": "440d6cf9",
   "metadata": {},
   "outputs": [],
   "source": [
    "compute.posterior(20,20)"
   ]
  },
  {
   "cell_type": "markdown",
   "id": "f53976af",
   "metadata": {},
   "source": [
    "# Q2"
   ]
  },
  {
   "cell_type": "code",
   "execution_count": null,
   "id": "7df1b055",
   "metadata": {},
   "outputs": [],
   "source": [
    "theta1 = seq(0,1, length=51)\n",
    "theta2 = theta1\n",
    "prior1 = make.prior(theta1, 0.25, 0.75)\n",
    "prior2 = make.prior(theta2, 0.25, 0.75)\n",
    "prior = outer(prior1, prior2)\n",
    "persp(theta1, theta2, prior)\n",
    "persp(theta1, theta2, prior, theta=60, phi=30)"
   ]
  },
  {
   "cell_type": "code",
   "execution_count": null,
   "id": "3100b46c",
   "metadata": {},
   "outputs": [],
   "source": [
    "y1 = 8; n1=20; y2=25; n2=40\n",
    "likelihood1 = sapply(theta1, function(x) dbinom(y1,n1, x))\n",
    "likelihood2 = sapply(theta2, function(x) dbinom(y2,n2, x))\n",
    "likelihood = outer(likelihood1, likelihood2)\n",
    "persp(theta1, theta2, likelihood, theta=60, phi=30)"
   ]
  },
  {
   "cell_type": "code",
   "execution_count": null,
   "id": "0e93047e",
   "metadata": {},
   "outputs": [],
   "source": [
    "posterior = prior*likelihood\n",
    "posterior = posterior/sum(posterior)\n",
    "persp(theta1, theta2, posterior, theta=60, phi=30)\n",
    "persp(theta1, theta2, posterior, theta=150, phi=30)"
   ]
  },
  {
   "cell_type": "code",
   "execution_count": null,
   "id": "c34cb585",
   "metadata": {},
   "outputs": [],
   "source": [
    "B = 1000\n",
    "index = sample(1:length(posterior), prob = posterior, \n",
    "               replace = TRUE, size = B)\n",
    "th1 = theta1[row(posterior)[index]]\n",
    "th2 = theta2[col(posterior)[index]]"
   ]
  },
  {
   "cell_type": "code",
   "execution_count": null,
   "id": "b4a4d77e",
   "metadata": {},
   "outputs": [],
   "source": [
    "mean(th1-th2)\n",
    "quantile(th1-th2, c(0.025, 0.975))"
   ]
  },
  {
   "cell_type": "markdown",
   "id": "214aad8c",
   "metadata": {},
   "source": [
    "# Q3"
   ]
  },
  {
   "cell_type": "code",
   "execution_count": null,
   "id": "4e661410",
   "metadata": {},
   "outputs": [],
   "source": [
    "quantile(th1/th2, c(0.025, 0.975))"
   ]
  },
  {
   "cell_type": "markdown",
   "id": "894c616c",
   "metadata": {},
   "source": [
    "# Q4"
   ]
  },
  {
   "cell_type": "code",
   "execution_count": null,
   "id": "a50542e1",
   "metadata": {},
   "outputs": [],
   "source": [
    "mux = seq(-4,4,length=81)\n",
    "muy = mux"
   ]
  },
  {
   "cell_type": "code",
   "execution_count": null,
   "id": "c117d2a3",
   "metadata": {},
   "outputs": [],
   "source": [
    "in.circ = function(x,y) ifelse(sqrt(x^2+y^2)<2.0001, 1, 0)\n",
    "prior = outer(mux, muy, in.circ)\n",
    "prior = prior/sum(prior)\n",
    "persp(mux,muy, prior, theta=60, phi=30)"
   ]
  },
  {
   "cell_type": "code",
   "execution_count": null,
   "id": "b09ced2e",
   "metadata": {},
   "outputs": [],
   "source": [
    "likelihood1 = sapply(mux, function(x) dnorm(1.34, x, 1))\n",
    "likelihood2 = sapply(muy, function(x) dnorm(0.82, x, 1))\n",
    "likelihood = outer(likelihood1, likelihood2)\n",
    "persp(mux,muy, likelihood, theta=60, phi=30)"
   ]
  },
  {
   "cell_type": "code",
   "execution_count": null,
   "id": "0f5b3605",
   "metadata": {},
   "outputs": [],
   "source": [
    "posterior = prior*likelihood\n",
    "posterior = posterior/sum(posterior)\n",
    "persp(mux,muy, posterior, theta=60, phi=30)"
   ]
  },
  {
   "cell_type": "code",
   "execution_count": null,
   "id": "788edee5",
   "metadata": {},
   "outputs": [],
   "source": [
    "B = 1000\n",
    "index = sample(1:length(posterior), prob = posterior, \n",
    "               replace = TRUE, size = B)\n",
    "mux.sim = mux[row(posterior)[index]]\n",
    "muy.sim = muy[col(posterior)[index]]"
   ]
  },
  {
   "cell_type": "code",
   "execution_count": null,
   "id": "e8f2b1ba",
   "metadata": {},
   "outputs": [],
   "source": [
    "mean(mux.sim)\n",
    "mean(muy.sim)"
   ]
  },
  {
   "cell_type": "code",
   "execution_count": null,
   "id": "8095a44f",
   "metadata": {},
   "outputs": [],
   "source": [
    "sum(rowSums(posterior)*mux)\n",
    "sum(colSums(posterior)*muy)\n",
    "## Normal Gibbs"
   ]
  },
  {
   "cell_type": "code",
   "execution_count": null,
   "id": "2a3acfbd",
   "metadata": {},
   "outputs": [],
   "source": [
    "B = 5000\n",
    "x1 = rep(NA, B)\n",
    "x2 = rep(NA, B)\n",
    "rho = 0.7\n",
    "x1[1] = 0\n",
    "x2[1] = 0\n",
    "for(i in 2:B) {\n",
    "  x1[i] = rnorm(1, rho*x2[i-1], sqrt(1-rho^2))\n",
    "  x2[i] = rnorm(1, rho*x1[i], sqrt(1-rho^2) ) \n",
    "}\n",
    "x1 = x1[-(1:500)]\n",
    "x2 = x2[-(1:500)]"
   ]
  }
 ],
 "metadata": {
  "jupytext": {
   "cell_metadata_filter": "-all",
   "formats": "auto:light,ipynb",
   "notebook_metadata_filter": "-all"
  },
  "kernelspec": {
   "display_name": "R",
   "language": "R",
   "name": "ir"
  },
  "language_info": {
   "codemirror_mode": "r",
   "file_extension": ".r",
   "mimetype": "text/x-r-source",
   "name": "R",
   "pygments_lexer": "r",
   "version": "4.5.1"
  }
 },
 "nbformat": 4,
 "nbformat_minor": 5
}
