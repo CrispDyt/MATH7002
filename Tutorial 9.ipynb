{
 "cells": [
  {
   "cell_type": "markdown",
   "id": "cf1442aa-68e2-4adb-8222-047bde8e5e2f",
   "metadata": {},
   "source": [
    "# MATH7002 Advanced Statistical methods\n",
    "## Worksheet 9"
   ]
  },
  {
   "cell_type": "markdown",
   "id": "5fb93954-4bfe-40ad-ba56-ae667a406cc9",
   "metadata": {
    "tags": []
   },
   "source": [
    "## Binomial Proportion\n",
    "\n",
    "|Log Dose|  0|  1|  2|  3|  4|  5|\n",
    "|--:|--:|--:|--:|--:|--:|--:|\n",
    "|Num Dead|  1|  4|  9| 13| 18| 20|\n",
    "\n",
    "1. The table above shows the number of tobacco budworms killed out of 20 at a given log dose of insecticide.\n",
    "\n",
    "\n",
    "a. Assuming a *uniform prior* compute the MAP estimate of the proportion killed, separately for each dose. (Recall that the uniform distribution is a Beta(1,1).)"
   ]
  },
  {
   "cell_type": "code",
   "execution_count": 1,
   "id": "aec5c4b8-99b5-4724-899d-a4a516f0d833",
   "metadata": {},
   "outputs": [],
   "source": [
    "numd = c(1,4,9,13,18,20)"
   ]
  },
  {
   "cell_type": "code",
   "execution_count": 2,
   "id": "2831220a-0228-4a4b-b786-9be458edbbc2",
   "metadata": {},
   "outputs": [],
   "source": [
    "# For Beta function, it contains two parameters a, b, Beta(a,b)\n",
    "a = 1 \n",
    "b = 1 \n",
    "n = 20 # Because the total number of budworms is 20 \n",
    "map.beta = function(y){\n",
    "    post.a = a + y\n",
    "    post.b = b + n - y\n",
    "    (post.a - 1)/(post.a + post.b -2) # This is because of the MAP formulation of binomial distribution \n",
    "}"
   ]
  },
  {
   "cell_type": "code",
   "execution_count": 6,
   "id": "70e923f1-05c9-4dc1-ac16-8b5e526df798",
   "metadata": {},
   "outputs": [
    {
     "data": {
      "text/html": [
       "<style>\n",
       ".list-inline {list-style: none; margin:0; padding: 0}\n",
       ".list-inline>li {display: inline-block}\n",
       ".list-inline>li:not(:last-child)::after {content: \"\\00b7\"; padding: 0 .5ex}\n",
       "</style>\n",
       "<ol class=list-inline><li>0.05</li><li>0.2</li><li>0.45</li><li>0.65</li><li>0.9</li><li>1</li></ol>\n"
      ],
      "text/latex": [
       "\\begin{enumerate*}\n",
       "\\item 0.05\n",
       "\\item 0.2\n",
       "\\item 0.45\n",
       "\\item 0.65\n",
       "\\item 0.9\n",
       "\\item 1\n",
       "\\end{enumerate*}\n"
      ],
      "text/markdown": [
       "1. 0.05\n",
       "2. 0.2\n",
       "3. 0.45\n",
       "4. 0.65\n",
       "5. 0.9\n",
       "6. 1\n",
       "\n",
       "\n"
      ],
      "text/plain": [
       "[1] 0.05 0.20 0.45 0.65 0.90 1.00"
      ]
     },
     "metadata": {},
     "output_type": "display_data"
    }
   ],
   "source": [
    "sapply(numd, map.beta)"
   ]
  },
  {
   "cell_type": "markdown",
   "id": "1e12c561-d2de-4e29-ad77-ef84a9894cb6",
   "metadata": {},
   "source": [
    "    b. Using the same prior as a. compute a 95% equal-tailed credible interval for the proportion killed, separately for each dose. What do you notice about log-dose=5?"
   ]
  },
  {
   "cell_type": "code",
   "execution_count": 10,
   "id": "ce059bcc-f3e9-45ed-8bbb-7ac89263f0ac",
   "metadata": {},
   "outputs": [],
   "source": [
    "# This question askes us to calculate the credible interval for our estimation \n",
    "# qbeta\n",
    "cred.beta = function(y){\n",
    "    # Because of the definition of Beta distibution, if you forget it, go back to Page 36. \n",
    "    post.a = a + y \n",
    "    post.b = b + n -y \n",
    "    # Here we want to find the credible interval (2.5%, 97.5%) of our confident interval \n",
    "    # That means we want to find the (2.5%, 97.5%) confident interval of the beta distibution when a = 1, b =1\n",
    "    qbeta(c(0.025, 0.975), post.a, post.b)\n",
    "} "
   ]
  },
  {
   "cell_type": "code",
   "execution_count": 11,
   "id": "f6ce3785-0f15-4b03-a7e2-30be1a7742b4",
   "metadata": {},
   "outputs": [
    {
     "data": {
      "text/html": [
       "<table class=\"dataframe\">\n",
       "<caption>A matrix: 2 × 6 of type dbl</caption>\n",
       "<tbody>\n",
       "\t<tr><td>0.01174932</td><td>0.08217588</td><td>0.2571306</td><td>0.4303245</td><td>0.6962256</td><td>0.8389024</td></tr>\n",
       "\t<tr><td>0.23815991</td><td>0.41906604</td><td>0.6597937</td><td>0.8189284</td><td>0.9695110</td><td>0.9987951</td></tr>\n",
       "</tbody>\n",
       "</table>\n"
      ],
      "text/latex": [
       "A matrix: 2 × 6 of type dbl\n",
       "\\begin{tabular}{llllll}\n",
       "\t 0.01174932 & 0.08217588 & 0.2571306 & 0.4303245 & 0.6962256 & 0.8389024\\\\\n",
       "\t 0.23815991 & 0.41906604 & 0.6597937 & 0.8189284 & 0.9695110 & 0.9987951\\\\\n",
       "\\end{tabular}\n"
      ],
      "text/markdown": [
       "\n",
       "A matrix: 2 × 6 of type dbl\n",
       "\n",
       "| 0.01174932 | 0.08217588 | 0.2571306 | 0.4303245 | 0.6962256 | 0.8389024 |\n",
       "| 0.23815991 | 0.41906604 | 0.6597937 | 0.8189284 | 0.9695110 | 0.9987951 |\n",
       "\n"
      ],
      "text/plain": [
       "     [,1]       [,2]       [,3]      [,4]      [,5]      [,6]     \n",
       "[1,] 0.01174932 0.08217588 0.2571306 0.4303245 0.6962256 0.8389024\n",
       "[2,] 0.23815991 0.41906604 0.6597937 0.8189284 0.9695110 0.9987951"
      ]
     },
     "metadata": {},
     "output_type": "display_data"
    }
   ],
   "source": [
    "sapply(numd, cred.beta)\n",
    "# How to interprete the output of the map.beta? For example, if your input is x, your output is y.\n",
    "# So y is the probability of the case when the total number of died budworms is x! \n",
    "# And the corresponding credible interval works as the confident interval of this estimation, y! "
   ]
  },
  {
   "cell_type": "code",
   "execution_count": 12,
   "id": "6c9412c7-a77d-4f29-8567-d05d585cfdee",
   "metadata": {},
   "outputs": [
    {
     "data": {
      "text/html": [
       "0.16"
      ],
      "text/latex": [
       "0.16"
      ],
      "text/markdown": [
       "0.16"
      ],
      "text/plain": [
       "[1] 0.16"
      ]
     },
     "metadata": {},
     "output_type": "display_data"
    }
   ],
   "source": [
    "# If you calculate the length of the log-dose = 5, \n",
    "0.998 - 0.838 "
   ]
  },
  {
   "cell_type": "code",
   "execution_count": 13,
   "id": "e095dd20-bf25-4eb0-a5a9-a6e73590ca47",
   "metadata": {},
   "outputs": [
    {
     "data": {
      "text/html": [
       "0.339"
      ],
      "text/latex": [
       "0.339"
      ],
      "text/markdown": [
       "0.339"
      ],
      "text/plain": [
       "[1] 0.339"
      ]
     },
     "metadata": {},
     "output_type": "display_data"
    }
   ],
   "source": [
    "# Log-dose = 2 \n",
    "0.419 - 0.08 \n",
    "# Large credible interval means more uncertainty, or large variance. "
   ]
  },
  {
   "cell_type": "markdown",
   "id": "c92d364d-f7e1-4d3a-b4d0-68cc74eb2232",
   "metadata": {},
   "source": [
    "    c. Assuming a Beta(6,5) prior compute the MAP estimate of the proportion killed, separately for each dose."
   ]
  },
  {
   "cell_type": "code",
   "execution_count": 14,
   "id": "0060bb05-3dea-42f5-8690-434bb5236069",
   "metadata": {},
   "outputs": [
    {
     "data": {
      "text/html": [
       "<style>\n",
       ".list-inline {list-style: none; margin:0; padding: 0}\n",
       ".list-inline>li {display: inline-block}\n",
       ".list-inline>li:not(:last-child)::after {content: \"\\00b7\"; padding: 0 .5ex}\n",
       "</style>\n",
       "<ol class=list-inline><li>0.206896551724138</li><li>0.310344827586207</li><li>0.482758620689655</li><li>0.620689655172414</li><li>0.793103448275862</li><li>0.862068965517241</li></ol>\n"
      ],
      "text/latex": [
       "\\begin{enumerate*}\n",
       "\\item 0.206896551724138\n",
       "\\item 0.310344827586207\n",
       "\\item 0.482758620689655\n",
       "\\item 0.620689655172414\n",
       "\\item 0.793103448275862\n",
       "\\item 0.862068965517241\n",
       "\\end{enumerate*}\n"
      ],
      "text/markdown": [
       "1. 0.206896551724138\n",
       "2. 0.310344827586207\n",
       "3. 0.482758620689655\n",
       "4. 0.620689655172414\n",
       "5. 0.793103448275862\n",
       "6. 0.862068965517241\n",
       "\n",
       "\n"
      ],
      "text/plain": [
       "[1] 0.2068966 0.3103448 0.4827586 0.6206897 0.7931034 0.8620690"
      ]
     },
     "metadata": {},
     "output_type": "display_data"
    }
   ],
   "source": [
    "# Here the prior change to Beta(6,5), that means a = 6, and b = 5 now! \n",
    "a = 6 \n",
    "b = 5\n",
    "sapply(numd, map.beta)"
   ]
  },
  {
   "cell_type": "code",
   "execution_count": 15,
   "id": "e859ea8d-ebb6-47f7-b970-c84c6e0d0245",
   "metadata": {},
   "outputs": [
    {
     "data": {
      "text/html": [
       "<table class=\"dataframe\">\n",
       "<caption>A matrix: 2 × 6 of type dbl</caption>\n",
       "<tbody>\n",
       "\t<tr><td>0.09933786</td><td>0.1728742</td><td>0.3129703</td><td>0.4385598</td><td>0.6143335</td><td>0.6927816</td></tr>\n",
       "\t<tr><td>0.38566651</td><td>0.4939590</td><td>0.6567448</td><td>0.7734424</td><td>0.9006621</td><td>0.9435783</td></tr>\n",
       "</tbody>\n",
       "</table>\n"
      ],
      "text/latex": [
       "A matrix: 2 × 6 of type dbl\n",
       "\\begin{tabular}{llllll}\n",
       "\t 0.09933786 & 0.1728742 & 0.3129703 & 0.4385598 & 0.6143335 & 0.6927816\\\\\n",
       "\t 0.38566651 & 0.4939590 & 0.6567448 & 0.7734424 & 0.9006621 & 0.9435783\\\\\n",
       "\\end{tabular}\n"
      ],
      "text/markdown": [
       "\n",
       "A matrix: 2 × 6 of type dbl\n",
       "\n",
       "| 0.09933786 | 0.1728742 | 0.3129703 | 0.4385598 | 0.6143335 | 0.6927816 |\n",
       "| 0.38566651 | 0.4939590 | 0.6567448 | 0.7734424 | 0.9006621 | 0.9435783 |\n",
       "\n"
      ],
      "text/plain": [
       "     [,1]       [,2]      [,3]      [,4]      [,5]      [,6]     \n",
       "[1,] 0.09933786 0.1728742 0.3129703 0.4385598 0.6143335 0.6927816\n",
       "[2,] 0.38566651 0.4939590 0.6567448 0.7734424 0.9006621 0.9435783"
      ]
     },
     "metadata": {},
     "output_type": "display_data"
    }
   ],
   "source": [
    "sapply(numd, cred.beta)"
   ]
  },
  {
   "cell_type": "code",
   "execution_count": 16,
   "id": "4e12bb55-fbc7-42e8-865d-bfb0ee19daff",
   "metadata": {},
   "outputs": [],
   "source": [
    "# For beta(6,5), you can find the credible interval of log-dose = 0 is (0.099, 0.385)\n",
    "# For beta(1,1), you can find the credible interval of log-dose = 0 is (0.01174932, 0.238)\n",
    "# Observation is: for beta(6,5), both the minimum and maximum value of the credible interval increase ! \n",
    "# For beta(6,5), you can find the credible interval of log-dose = 5 is (0.6927816, 0.9435783)\n",
    "# For beta(1,1), you can find the credible interval of log-dose = 5 is (0.83, 0.99)\n",
    "# Observation is: for beta(6,5), both the minimum and maximum value of the credible interval decrease ! \n",
    "# Conclusion is: if we change the prior distribution, the extreme inputs will yield a milder estimation. \n",
    "# This is because of the physical meansing of Beta(1,1) and Beta(6,5). \n",
    "# For beta(1,1), it is a uniform distribution that means every inputs are all the same. \n",
    "# For beta(6,5), we believe the value of $\\theta$, the survivial probability of budwormds, should around 0.5. \n",
    "# The prior distribution favours value around 0.5, meaning the survival rate is more likely to be around 0.5!"
   ]
  },
  {
   "cell_type": "markdown",
   "id": "1107c7ad-b713-4223-a853-9ed6c69cc8fc",
   "metadata": {},
   "source": [
    "    d. Using the same prior as c. compute a 95% equal-tailed credible interval for the proportion killed, separately for each dose. What do you notice *now* about log-dose=5?"
   ]
  },
  {
   "cell_type": "code",
   "execution_count": 19,
   "id": "8dc4d2bc",
   "metadata": {
    "eval": true,
    "tags": [
     "remove_input"
    ]
   },
   "outputs": [],
   "source": [
    "set.seed(7763) \n",
    "# This one is used to generate a mean with 2 deicmals from a normal distribution given mu =25 and sd = 5! \n",
    "samp1 = function(n) round(mean(rnorm(n, 25, 5)),2)"
   ]
  },
  {
   "cell_type": "markdown",
   "id": "4fd44431-fc1e-4600-9b8d-e41fc9b6de2d",
   "metadata": {
    "tags": []
   },
   "source": [
    "## Normal Mean \n",
    "\n",
    "2. Assume a data set that is Normally distributed with mean $\\mu$ and known standard deviation $\\sigma=5$. Assume further a prior for $\\mu$ which is Normal with mean $\\nu=20$ and standard deviation  $\\tau=10$. Compute the MAP estimate and a 95% equal-tailed credible interval for the mean $\\mu$ using the following data.\n",
    "\n",
    "a. $n=10, \\bar{x} = `r samp1(10)`$"
   ]
  },
  {
   "cell_type": "code",
   "execution_count": 20,
   "id": "3b4e96e2-766f-484c-a1ad-e94fbf040fcb",
   "metadata": {},
   "outputs": [],
   "source": [
    "s = 5 \n",
    "nu = 20 \n",
    "tau = 10"
   ]
  },
  {
   "cell_type": "code",
   "execution_count": 21,
   "id": "d45fe16b-3e87-46f8-95da-b62b0d66a423",
   "metadata": {},
   "outputs": [],
   "source": [
    "# Transform the formulation on Page 56 into R code \n",
    "do.norm = function(n, xbar){\n",
    "    # Variance\n",
    "    post.var = 1/(n/s^2 + 1/tau^2)\n",
    "    # Mean \n",
    "    post.mean = (n*xbar/s^2 + nu/tau^2) * post.var\n",
    "    cat(\"Map estimation = \", post.mean, \"\\n\")\n",
    "    cat(\"Credible Interval = \", qnorm(c(0.025, 0.975), post.mean, sqrt(post.var)), \"\\n\")\n",
    "}"
   ]
  },
  {
   "cell_type": "code",
   "execution_count": 22,
   "id": "c23e24f3-af0a-445e-b1ba-0f216513b0ae",
   "metadata": {},
   "outputs": [],
   "source": [
    "xbar1 = samp1(10)"
   ]
  },
  {
   "cell_type": "code",
   "execution_count": 24,
   "id": "0156860f-6c31-404e-a435-e54489dc367b",
   "metadata": {},
   "outputs": [
    {
     "name": "stdout",
     "output_type": "stream",
     "text": [
      "Map estimation =  21.64878 \n",
      "Credible Interval =  18.58783 24.70973 \n"
     ]
    }
   ],
   "source": [
    "do.norm(10,xbar1)"
   ]
  },
  {
   "cell_type": "markdown",
   "id": "56bf66c2-8756-4680-adde-2246396f4709",
   "metadata": {
    "jp-MarkdownHeadingCollapsed": true,
    "tags": []
   },
   "source": [
    "b. $n=20, \\bar{x} = `r samp1(20)`$"
   ]
  },
  {
   "cell_type": "code",
   "execution_count": 25,
   "id": "0c8dc38b-6cec-4311-b431-d435a62ed644",
   "metadata": {},
   "outputs": [
    {
     "name": "stdout",
     "output_type": "stream",
     "text": [
      "Map estimation =  25.24444 \n",
      "Credible Interval =  23.06671 27.42218 \n"
     ]
    }
   ],
   "source": [
    "do.norm(20,samp1(20))"
   ]
  },
  {
   "cell_type": "markdown",
   "id": "42d34680-fc40-4d38-a754-3d6a4aed2de1",
   "metadata": {
    "jp-MarkdownHeadingCollapsed": true,
    "tags": []
   },
   "source": [
    "c. $n=50, \\bar{x} = `r samp1(50)`$    "
   ]
  },
  {
   "cell_type": "code",
   "execution_count": 26,
   "id": "a2d1fd09-d1dc-4b8f-a96b-ba3150c7953c",
   "metadata": {},
   "outputs": [
    {
     "name": "stdout",
     "output_type": "stream",
     "text": [
      "Map estimation =  24.23881 \n",
      "Credible Interval =  22.85635 25.62126 \n"
     ]
    }
   ],
   "source": [
    "do.norm(50,samp1(50))"
   ]
  },
  {
   "cell_type": "code",
   "execution_count": 27,
   "id": "65be8c18-5339-4eff-b4a5-60e3da78e7b9",
   "metadata": {},
   "outputs": [],
   "source": [
    "# This is another important property of Bayesian Inference ! \n",
    "# If you increase the size of your datasets, in other words, we have more information! \n",
    "# Out MAP estimation should be more accurate! "
   ]
  },
  {
   "cell_type": "markdown",
   "id": "b01a8e10-c32c-4522-877d-ec4e4c086051",
   "metadata": {},
   "source": [
    "3. Repeat the above but with prior standard deviation $\\tau=2$"
   ]
  },
  {
   "cell_type": "code",
   "execution_count": 28,
   "id": "debbc9ec-e33a-432d-a240-33d2d341a866",
   "metadata": {},
   "outputs": [
    {
     "name": "stdout",
     "output_type": "stream",
     "text": [
      "Map estimation =  23.21231 \n",
      "Credible Interval =  20.78127 25.64334 \n"
     ]
    }
   ],
   "source": [
    "tau = 2\n",
    "do.norm(10, samp1(10))"
   ]
  },
  {
   "cell_type": "markdown",
   "id": "b036a50c-2510-4b53-b345-480d501cc969",
   "metadata": {},
   "source": [
    "## Poisson mean\n",
    "\n",
    "4. Another example of a conjugate prior is in the case of a Poisson mean with a Gamma prior. In this case\n",
    "\\begin{align*}\n",
    "(Prior)p(\\lambda) &= \\frac{1}{\\theta^k\\Gamma(k)} \\lambda^{k-1} e^{-\\lambda/\\theta}\\\\\n",
    "(Likelihood)p(y\\vert \\lambda) &= \\frac{\\lambda^y}{y!} e^{-\\lambda}\\\\\n",
    "\\text{Therefore}\\quad (Posterior distribution) \\quad p(\\lambda\\vert y) &\\propto \\lambda^{k+y-1} e^{-(1+1/\\theta)\\lambda}\n",
    "\\end{align*}\n",
    "Where $y$ is a single observation from a Poisson distribution with mean $\\lambda$  \n",
    "Assume that $k=2$ and $\\theta=10$.\n",
    "\n",
    "    a. Plot the prior density."
   ]
  },
  {
   "cell_type": "code",
   "execution_count": 29,
   "id": "4b66a2a7-2d44-46b8-8484-b4665345ffa5",
   "metadata": {},
   "outputs": [
    {
     "data": {
      "image/png": "[encoded data removed]",
      "text/plain": [
       "plot without title"
      ]
     },
     "metadata": {
      "image/png": {
       "height": 420,
       "width": 420
      }
     },
     "output_type": "display_data"
    }
   ],
   "source": [
    "k = 2\n",
    "theta = 10\n",
    "curve(dgamma(x, k, scale = theta), from = 0, to = 50)"
   ]
  },
  {
   "cell_type": "markdown",
   "id": "f4174a25-8ef4-4557-ace1-523ab83246e5",
   "metadata": {},
   "source": [
    "    b. If $y=25$ is observed, plot the posterior."
   ]
  },
  {
   "cell_type": "code",
   "execution_count": 30,
   "id": "1c28f4ab-5338-4689-a827-59e570507560",
   "metadata": {},
   "outputs": [
    {
     "data": {
      "image/png": "[encoded data removed]",
      "text/plain": [
       "plot without title"
      ]
     },
     "metadata": {
      "image/png": {
       "height": 420,
       "width": 420
      }
     },
     "output_type": "display_data"
    }
   ],
   "source": [
    "# Posterior is Gamma distribution \n",
    "y = 25\n",
    "# update k and theta for the Gamma distribution!\n",
    "post.k = k + y\n",
    "post.theta = 1/(1 + 1/theta)\n",
    "curve(dgamma(x, post.k, scale = post.theta), from = 0, to = 50)"
   ]
  },
  {
   "cell_type": "markdown",
   "id": "4aa190ff-368b-4289-b0bc-d439d48c33dd",
   "metadata": {},
   "source": [
    "    c. In the case of b., compute the MAP estimate of $\\lambda$    "
   ]
  },
  {
   "cell_type": "code",
   "execution_count": 31,
   "id": "df194cfb-1428-4746-af4d-f659a8b0248a",
   "metadata": {},
   "outputs": [],
   "source": [
    "# By taking MLE ! \n",
    "a = k + y \n",
    "b = theta / (theta + 1)"
   ]
  },
  {
   "cell_type": "code",
   "execution_count": 32,
   "id": "b3e82f0a-f8b3-461a-a891-58619deb6209",
   "metadata": {},
   "outputs": [],
   "source": [
    "lambda = (a-1)*b"
   ]
  },
  {
   "cell_type": "code",
   "execution_count": 33,
   "id": "36557d29-98a1-4c42-96bb-3583d9885ed8",
   "metadata": {},
   "outputs": [
    {
     "data": {
      "text/html": [
       "23.6363636363636"
      ],
      "text/latex": [
       "23.6363636363636"
      ],
      "text/markdown": [
       "23.6363636363636"
      ],
      "text/plain": [
       "[1] 23.63636"
      ]
     },
     "metadata": {},
     "output_type": "display_data"
    }
   ],
   "source": [
    "lambda"
   ]
  },
  {
   "cell_type": "code",
   "execution_count": null,
   "id": "306f5037-93b0-4b2c-9702-706eec2850ad",
   "metadata": {},
   "outputs": [],
   "source": []
  }
 ],
 "metadata": {
  "jupytext": {
   "cell_metadata_filter": "tags,eval,child,-all",
   "formats": "Rmd,ipynb",
   "notebook_metadata_filter": "-all"
  },
  "kernelspec": {
   "display_name": "R",
   "language": "R",
   "name": "ir"
  },
  "language_info": {
   "codemirror_mode": "r",
   "file_extension": ".r",
   "mimetype": "text/x-r-source",
   "name": "R",
   "pygments_lexer": "r",
   "version": "4.5.1"
  }
 },
 "nbformat": 4,
 "nbformat_minor": 5
}
