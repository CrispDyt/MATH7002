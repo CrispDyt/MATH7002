{
 "cells": [
  {
   "cell_type": "markdown",
   "id": "2cac0911-0c4c-422f-8df8-a66445a53dcf",
   "metadata": {},
   "source": [
    "# MATH7002 Advanced Statistical methods\n",
    "## Worksheet 8"
   ]
  },
  {
   "cell_type": "markdown",
   "id": "5ff8027b-abf9-4812-a063-2e67c44f317c",
   "metadata": {},
   "source": [
    "1. Consider the following 2 variable linear program.\n",
    "\n",
    "\\begin{align*}\n",
    "\\text{Maximize  }&& z=4x_1+6x_2 &\\\\\n",
    "\\text{subject to  }&&  6x_1+5x_2 &\\le 60\\\\\n",
    "&&x_1&\\le 7\\\\\n",
    "&&x_2 &\\le 7\\\\\n",
    "&&x_1,x_2 &\\ge 0\\\\\n",
    "\\end{align*}\n",
    "\n",
    "a. Sketch the feasible region."
   ]
  },
  {
   "cell_type": "markdown",
   "id": "c3bf0a30-32fc-45e5-afa0-6b0374a77503",
   "metadata": {},
   "source": [
    "b. Find the optimal solution.\n",
    "    "
   ]
  },
  {
   "cell_type": "code",
   "execution_count": 1,
   "id": "5656e95a-70d4-4804-ad1f-303f156cef1a",
   "metadata": {},
   "outputs": [
    {
     "data": {
      "text/plain": [
       "Success: the objective function is 58.66667 "
      ]
     },
     "metadata": {},
     "output_type": "display_data"
    },
    {
     "data": {
      "text/html": [
       "<style>\n",
       ".list-inline {list-style: none; margin:0; padding: 0}\n",
       ".list-inline>li {display: inline-block}\n",
       ".list-inline>li:not(:last-child)::after {content: \"\\00b7\"; padding: 0 .5ex}\n",
       "</style>\n",
       "<ol class=list-inline><li>4.16666666666667</li><li>7</li></ol>\n"
      ],
      "text/latex": [
       "\\begin{enumerate*}\n",
       "\\item 4.16666666666667\n",
       "\\item 7\n",
       "\\end{enumerate*}\n"
      ],
      "text/markdown": [
       "1. 4.16666666666667\n",
       "2. 7\n",
       "\n",
       "\n"
      ],
      "text/plain": [
       "[1] 4.166667 7.000000"
      ]
     },
     "metadata": {},
     "output_type": "display_data"
    },
    {
     "data": {
      "text/html": [
       "58.6666666666667"
      ],
      "text/latex": [
       "58.6666666666667"
      ],
      "text/markdown": [
       "58.6666666666667"
      ],
      "text/plain": [
       "[1] 58.66667"
      ]
     },
     "metadata": {},
     "output_type": "display_data"
    }
   ],
   "source": [
    "library(lpSolve)\n",
    "# Objective Coefficients\n",
    "objective <- c(4, 6)\n",
    "\n",
    "# Constrain Matrix\n",
    "constraints <- matrix(c(6, 5,\n",
    "                        1, 0,\n",
    "                        0, 1), \n",
    "                      nrow = 3, byrow = TRUE)\n",
    "\n",
    "# Constrain Directions\n",
    "directions <- c(\"<=\", \"<=\", \"<=\")\n",
    "\n",
    "# Right Handside \n",
    "rhs <- c(60, 7, 7)\n",
    "\n",
    "solution <- lp(\"max\", objective, constraints, directions, rhs)\n",
    "\n",
    "solution\n",
    "solution$solution   # Optimal Solution\n",
    "solution$objval     # The maximal obejective value"
   ]
  },
  {
   "cell_type": "code",
   "execution_count": 2,
   "id": "3d26bf6a-94e0-4145-a115-6d5d264cecb1",
   "metadata": {},
   "outputs": [
    {
     "data": {
      "image/png": "[encoded data removed]",
      "text/plain": [
       "Plot with title “Feasible Region”"
      ]
     },
     "metadata": {
      "image/png": {
       "height": 420,
       "width": 420
      }
     },
     "output_type": "display_data"
    }
   ],
   "source": [
    "x1 <- seq(0, 10, 0.1)\n",
    "line1 <- (60 - 6*x1)/5  \n",
    "line1[line1 < 0] <- NA\n",
    "\n",
    "plot(x1, line1, type=\"l\", col=\"red\", ylim=c(0,10),\n",
    "     xlab=\"x1\", ylab=\"x2\", main=\"Feasible Region\")\n",
    "abline(h=7, col=\"blue\") \n",
    "abline(v=7, col=\"green\") \n",
    "abline(h=0, col=\"black\")\n",
    "abline(v=0, col=\"black\")\n",
    "\n",
    "points(solution$solution[1], solution$solution[2], col=\"purple\", pch=19, cex=1.5)\n"
   ]
  },
  {
   "cell_type": "code",
   "execution_count": 3,
   "id": "faa587f1-0c1b-46b7-8e31-d41c14953343",
   "metadata": {},
   "outputs": [],
   "source": [
    "A <- matrix( c(6,5,\n",
    "               1,0,\n",
    "               0,1), ncol=2, byrow=TRUE)\n",
    "b <- c(60,7,7)\n",
    "c <- c(4,6)"
   ]
  },
  {
   "cell_type": "code",
   "execution_count": 4,
   "id": "bee22118-7667-4f33-9af5-fc4f2659949c",
   "metadata": {},
   "outputs": [
    {
     "name": "stderr",
     "output_type": "stream",
     "text": [
      "Loading required package: linprog\n",
      "\n"
     ]
    }
   ],
   "source": [
    "require(linprog)"
   ]
  },
  {
   "cell_type": "code",
   "execution_count": 6,
   "id": "9270ca16-7a9f-4a08-a57c-4c39d98a810f",
   "metadata": {},
   "outputs": [
    {
     "name": "stdout",
     "output_type": "stream",
     "text": [
      "[1] \"initial Tableau\"\n",
      "     1  2 S 1 S 2 S 3 P0\n",
      "1    6  5   1   0   0 60\n",
      "2    1  0   0   1   0  7\n",
      "3    0  1   0   0   1  7\n",
      "Z-C -4 -6   0   0   0  0\n",
      "\n",
      "Pivot Column: 2 ( 2 )\n",
      "Pivot Row: 3 ( 3 )\n",
      "\n",
      "     1 2 S 1 S 2 S 3 P0\n",
      "1    6 0   1   0  -5 25\n",
      "2    1 0   0   1   0  7\n",
      "2    0 1   0   0   1  7\n",
      "Z-C -4 0   0   0   6 42\n",
      "\n",
      "Pivot Column: 1 ( 1 )\n",
      "Pivot Row: 1 ( 1 )\n",
      "\n",
      "    1 2        S 1 S 2        S 3        P0\n",
      "1   1 0  0.1666667   0 -0.8333333  4.166667\n",
      "2   0 0 -0.1666667   1  0.8333333  2.833333\n",
      "2   0 1  0.0000000   0  1.0000000  7.000000\n",
      "Z-C 0 0  0.6666667   0  2.6666667 58.666667\n"
     ]
    },
    {
     "data": {
      "text/plain": [
       "\n",
       "\n",
       "Results of Linear Programming / Linear Optimization\n",
       "\n",
       "Objective function (Maximum): 58.6667 \n",
       "\n",
       "Iterations in phase 1: 0\n",
       "Iterations in phase 2: 2\n",
       "Solution\n",
       "      opt\n",
       "1 4.16667\n",
       "2 7.00000\n",
       "\n",
       "Basic Variables\n",
       "        opt\n",
       "1   4.16667\n",
       "2   7.00000\n",
       "S 2 2.83333\n",
       "\n",
       "Constraints\n",
       "    actual dir bvec    free     dual dual.reg\n",
       "1 60.00000  <=   60 0.00000 0.666667 25.00000\n",
       "2  4.16667  <=    7 2.83333 0.000000  2.83333\n",
       "3  7.00000  <=    7 0.00000 2.666667  3.40000\n",
       "\n",
       "All Variables (including slack variables)\n",
       "        opt cvec    min.c    max.c      marg marg.reg\n",
       "1   4.16667    4  0.00000 7.200000        NA       NA\n",
       "2   7.00000    6  3.33333      Inf        NA       NA\n",
       "S 1 0.00000    0     -Inf 0.666667 -0.666667     25.0\n",
       "S 2 2.83333    0 -3.20000 4.000000  0.000000       NA\n",
       "S 3 0.00000    0     -Inf 2.666667 -2.666667      3.4\n"
      ]
     },
     "metadata": {},
     "output_type": "display_data"
    }
   ],
   "source": [
    "solveLP(c, b, A, maximum=TRUE, verbose=4)"
   ]
  },
  {
   "cell_type": "markdown",
   "id": "ce353c7d-4963-48af-aac7-ae23053bdbb4",
   "metadata": {},
   "source": [
    "2. Consider the linear programming problem below.\n",
    "\n",
    "\\begin{align*}\n",
    "\\text{Maximise} &&  z = 20x_1 + 15x_2 + 10x_3&  \\\\\n",
    "\\text{Subject to} && 2x_1+x_2+3x_3 & \\le 42\\\\\n",
    "&&2x_1+x_2+2x_3 & \\le 40\\\\\n",
    "&&x_1+2x_2+x_3 & \\le 45\\\\\n",
    "&&x_1,x_2,x_3 & \\ge 0\n",
    "\\end{align*}\n",
    "\n",
    "Using the simplex method find the optimal values of $x_1$,\n",
    "  $x_2$, $x_3$ and $z$."
   ]
  },
  {
   "cell_type": "markdown",
   "id": "68d0536e",
   "metadata": {},
   "source": [
    "3.  At a preschool lunch is provided. The following table shows the available food products."
   ]
  },
  {
   "cell_type": "code",
   "execution_count": 1,
   "id": "e0aca2da",
   "metadata": {
    "eval": true,
    "tags": [
     "remove_input"
    ]
   },
   "outputs": [
    {
     "data": {
      "text/plain": [
       "\n",
       "\n",
       "Table: \n",
       "\n",
       "|                       | Calories from Fat| Total Calories| Vitamin C (mg)| Protein (g)| Cost (c)|\n",
       "|:----------------------|-----------------:|--------------:|--------------:|-----------:|--------:|\n",
       "|Bread (1 slice)        |                10|             70|              0|           3|        5|\n",
       "|Peanut Butter (1 tbsp) |                75|            100|              0|           4|        4|\n",
       "|Jam (1 tbsp)           |                 0|             50|              3|           0|        7|\n",
       "|Cracker (1)            |                20|             60|              0|           1|        8|\n",
       "|Milk (1 cup)           |                70|            150|              2|           8|       15|\n",
       "|Juice (1 cup)          |                 0|            100|            120|           1|       35|"
      ]
     },
     "metadata": {},
     "output_type": "display_data"
    }
   ],
   "source": [
    "dat = c(10,75,0,20,70,0, \n",
    "        70,100,50,60,150,100, \n",
    "        0,0,3,0,2,120, \n",
    "        3,4,0,1,8,1, \n",
    "        5,4,7,8,15,35) \n",
    "dat=matrix(dat, ncol=5)\n",
    "library(kableExtra)   \n",
    "colnames(dat) = c(\"Calories from Fat\", \"Total Calories\", \"Vitamin C (mg)\", \"Protein (g)\", \"Cost (c)\")\n",
    "rownames(dat) = c(\"Bread (1 slice)\", \"Peanut Butter (1 tbsp)\", \"Jam (1 tbsp)\", \"Cracker (1)\",\n",
    "                  \"Milk (1 cup)\", \"Juice (1 cup)\")\n",
    "kable(dat, caption=\"\")"
   ]
  },
  {
   "cell_type": "markdown",
   "id": "0059beca-f4fe-4d68-996d-ed137b022516",
   "metadata": {},
   "source": [
    "Each child should have \n",
    "\n",
    "+ between 400 and 600 calories\n",
    "+ no more that 30% of calories from fat\n",
    "+ at least 60mg of Vitamin C and 12g of protein\n",
    "+ exactly 2 slices of bread\n",
    "+ at least twice as much PB as Jam\n",
    "+ at least one cup of liquid\n",
    "\n",
    "Cost should minimised.\n",
    "\n",
    "a. Write as a linear program"
   ]
  },
  {
   "cell_type": "code",
   "execution_count": null,
   "id": "17103378-ec0f-4f7a-a92d-d08a13b5eb45",
   "metadata": {},
   "outputs": [],
   "source": []
  },
  {
   "cell_type": "markdown",
   "id": "c8dd30c5-7188-47a2-b7fe-e130b6ecddc4",
   "metadata": {},
   "source": [
    "b. Solve\n",
    "    "
   ]
  },
  {
   "cell_type": "code",
   "execution_count": null,
   "id": "fd4f03a3-9e2b-493a-86c2-564c07676745",
   "metadata": {},
   "outputs": [],
   "source": []
  }
 ],
 "metadata": {
  "jupytext": {
   "cell_metadata_filter": "tags,eval,child,-all",
   "formats": "Rmd,ipynb",
   "notebook_metadata_filter": "-all"
  },
  "kernelspec": {
   "display_name": "R",
   "language": "R",
   "name": "ir"
  },
  "language_info": {
   "codemirror_mode": "r",
   "file_extension": ".r",
   "mimetype": "text/x-r-source",
   "name": "R",
   "pygments_lexer": "r",
   "version": "4.5.1"
  }
 },
 "nbformat": 4,
 "nbformat_minor": 5
}
