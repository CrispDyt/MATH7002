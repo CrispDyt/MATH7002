{
 "cells": [
  {
   "cell_type": "markdown",
   "id": "2cac0911-0c4c-422f-8df8-a66445a53dcf",
   "metadata": {},
   "source": [
    "# MATH7002 Advanced Statistical methods\n",
    "## Worksheet 8"
   ]
  },
  {
   "cell_type": "markdown",
   "id": "5ff8027b-abf9-4812-a063-2e67c44f317c",
   "metadata": {},
   "source": [
    "1. Consider the following 2 variable linear program.\n",
    "\n",
    "\\begin{align*}\n",
    "\\text{Maximize  }&& z=4x_1+6x_2 &\\\\\n",
    "\\text{subject to  }&&  6x_1+5x_2 &\\le 60\\\\\n",
    "&&x_1&\\le 7\\\\\n",
    "&&x_2 &\\le 7\\\\\n",
    "&&x_1,x_2 &\\ge 0\\\\\n",
    "\\end{align*}\n",
    "\n",
    "a. Sketch the feasible region."
   ]
  },
  {
   "cell_type": "code",
   "execution_count": 9,
   "id": "00231dd5-a7ef-42ce-b483-f8266fa2ad2f",
   "metadata": {},
   "outputs": [
    {
     "data": {
      "image/png": "[encoded data removed]",
      "text/plain": [
       "Plot with title “Feasible Region”"
      ]
     },
     "metadata": {
      "image/png": {
       "height": 420,
       "width": 420
      }
     },
     "output_type": "display_data"
    }
   ],
   "source": [
    "x1 <- seq(0, 10, 0.1)\n",
    "line1 <- (60 - 6 * x1)/5\n",
    "line1[line1 < 0] <- NA\n",
    "plot(x1, line1, type = \"l\", col = \"red\", ylim = c(0,10), xlab = \"x1\", ylab = \"x2\", main = \"Feasible Region\")\n",
    "abline(h= 7, col =\"green\") # Constrain for the x2<=7\n",
    "abline(v= 7, col =\"blue\") # Constrain for the x1 <=7\n",
    "abline(h=0, col = \"black\") # Constraint for the x1 >=0\n",
    "abline(v=0, col = \"black\") # Constraint for the x2 >= 0 "
   ]
  },
  {
   "cell_type": "code",
   "execution_count": null,
   "id": "68d7f1c3-7ed4-4cc7-8d7e-0702d1ba1efb",
   "metadata": {},
   "outputs": [],
   "source": [
    "# We have two packages to solve linear regression method \n",
    "# lpSolve"
   ]
  },
  {
   "cell_type": "code",
   "execution_count": 1,
   "id": "19cbb893-d112-4337-8085-aba4c1940027",
   "metadata": {},
   "outputs": [],
   "source": [
    "library(lpSolve)\n",
    "# We need to pass four arguments: objective, constrains, constrain directions, right handside\n",
    "objective <- c(4,6)\n",
    "constraints <- matrix(c(6,5,1,0,0,1), nrow = 3, byrow = TRUE)\n",
    "directions <- c(\"<=\", \"<=\", \"<=\")\n",
    "rhs <- c(60, 7, 7)\n",
    "solution <- lp(\"max\", objective, constraints, directions, rhs)"
   ]
  },
  {
   "cell_type": "code",
   "execution_count": 2,
   "id": "43c9db1a-5cc0-4887-b1c3-b4de05427c31",
   "metadata": {},
   "outputs": [
    {
     "data": {
      "text/plain": [
       "Success: the objective function is 58.66667 "
      ]
     },
     "metadata": {},
     "output_type": "display_data"
    }
   ],
   "source": [
    "solution"
   ]
  },
  {
   "cell_type": "code",
   "execution_count": 3,
   "id": "f1f0727a-07df-45bc-a0fe-c1d38815f4c8",
   "metadata": {},
   "outputs": [
    {
     "data": {
      "text/html": [
       "<style>\n",
       ".list-inline {list-style: none; margin:0; padding: 0}\n",
       ".list-inline>li {display: inline-block}\n",
       ".list-inline>li:not(:last-child)::after {content: \"\\00b7\"; padding: 0 .5ex}\n",
       "</style>\n",
       "<ol class=list-inline><li>4.16666666666667</li><li>7</li></ol>\n"
      ],
      "text/latex": [
       "\\begin{enumerate*}\n",
       "\\item 4.16666666666667\n",
       "\\item 7\n",
       "\\end{enumerate*}\n"
      ],
      "text/markdown": [
       "1. 4.16666666666667\n",
       "2. 7\n",
       "\n",
       "\n"
      ],
      "text/plain": [
       "[1] 4.166667 7.000000"
      ]
     },
     "metadata": {},
     "output_type": "display_data"
    }
   ],
   "source": [
    "solution$solution # Check the optimal solution"
   ]
  },
  {
   "cell_type": "code",
   "execution_count": 4,
   "id": "a7eda817-60a6-4fa5-af4e-2f4507aba7e3",
   "metadata": {},
   "outputs": [
    {
     "data": {
      "text/html": [
       "58.6666666666667"
      ],
      "text/latex": [
       "58.6666666666667"
      ],
      "text/markdown": [
       "58.6666666666667"
      ],
      "text/plain": [
       "[1] 58.66667"
      ]
     },
     "metadata": {},
     "output_type": "display_data"
    }
   ],
   "source": [
    "solution$objval # The optimal objective value"
   ]
  },
  {
   "cell_type": "code",
   "execution_count": 5,
   "id": "1b4afd26-b4dc-4846-93f9-62c91b13539e",
   "metadata": {},
   "outputs": [],
   "source": [
    "# Second package \n",
    "library(linprog)"
   ]
  },
  {
   "cell_type": "code",
   "execution_count": 6,
   "id": "d6eb873e-6202-48ba-b46e-2c441a80d3f8",
   "metadata": {},
   "outputs": [],
   "source": [
    "A <- matrix(c(6,5,1,0,0,1), nrow = 3, byrow = TRUE) \n",
    "b <- c(60, 7, 7)\n",
    "c <- c(4,6)"
   ]
  },
  {
   "cell_type": "code",
   "execution_count": 7,
   "id": "519075a1-37bf-417d-b540-62b8204ec01a",
   "metadata": {},
   "outputs": [
    {
     "name": "stdout",
     "output_type": "stream",
     "text": [
      "[1] \"initial Tableau\"\n",
      "     1  2 S 1 S 2 S 3 P0\n",
      "1    6  5   1   0   0 60\n",
      "2    1  0   0   1   0  7\n",
      "3    0  1   0   0   1  7\n",
      "Z-C -4 -6   0   0   0  0\n",
      "\n",
      "Pivot Column: 2 ( 2 )\n",
      "Pivot Row: 3 ( 3 )\n",
      "\n",
      "     1 2 S 1 S 2 S 3 P0\n",
      "1    6 0   1   0  -5 25\n",
      "2    1 0   0   1   0  7\n",
      "2    0 1   0   0   1  7\n",
      "Z-C -4 0   0   0   6 42\n",
      "\n",
      "Pivot Column: 1 ( 1 )\n",
      "Pivot Row: 1 ( 1 )\n",
      "\n",
      "    1 2        S 1 S 2        S 3        P0\n",
      "1   1 0  0.1666667   0 -0.8333333  4.166667\n",
      "2   0 0 -0.1666667   1  0.8333333  2.833333\n",
      "2   0 1  0.0000000   0  1.0000000  7.000000\n",
      "Z-C 0 0  0.6666667   0  2.6666667 58.666667\n"
     ]
    },
    {
     "data": {
      "text/plain": [
       "\n",
       "\n",
       "Results of Linear Programming / Linear Optimization\n",
       "\n",
       "Objective function (Maximum): 58.6667 \n",
       "\n",
       "Iterations in phase 1: 0\n",
       "Iterations in phase 2: 2\n",
       "Solution\n",
       "      opt\n",
       "1 4.16667\n",
       "2 7.00000\n",
       "\n",
       "Basic Variables\n",
       "        opt\n",
       "1   4.16667\n",
       "2   7.00000\n",
       "S 2 2.83333\n",
       "\n",
       "Constraints\n",
       "    actual dir bvec    free     dual dual.reg\n",
       "1 60.00000  <=   60 0.00000 0.666667 25.00000\n",
       "2  4.16667  <=    7 2.83333 0.000000  2.83333\n",
       "3  7.00000  <=    7 0.00000 2.666667  3.40000\n",
       "\n",
       "All Variables (including slack variables)\n",
       "        opt cvec    min.c    max.c      marg marg.reg\n",
       "1   4.16667    4  0.00000 7.200000        NA       NA\n",
       "2   7.00000    6  3.33333      Inf        NA       NA\n",
       "S 1 0.00000    0     -Inf 0.666667 -0.666667     25.0\n",
       "S 2 2.83333    0 -3.20000 4.000000  0.000000       NA\n",
       "S 3 0.00000    0     -Inf 2.666667 -2.666667      3.4\n"
      ]
     },
     "metadata": {},
     "output_type": "display_data"
    }
   ],
   "source": [
    "solveLP(c, b, A, maximum = TRUE, verbose = 4)"
   ]
  },
  {
   "cell_type": "markdown",
   "id": "c3bf0a30-32fc-45e5-afa0-6b0374a77503",
   "metadata": {},
   "source": [
    "b. Find the optimal solution.\n",
    "    "
   ]
  },
  {
   "cell_type": "markdown",
   "id": "e1d35a01-bfe1-4665-a485-8f016f63b9c2",
   "metadata": {},
   "source": [
    "# Practice this question !  10 mins ! "
   ]
  },
  {
   "cell_type": "markdown",
   "id": "ce353c7d-4963-48af-aac7-ae23053bdbb4",
   "metadata": {},
   "source": [
    "2. Consider the linear programming problem below.\n",
    "\n",
    "\\begin{align*}\n",
    "\\text{Maximise} &&  z = 20x_1 + 15x_2 + 10x_3&  \\\\\n",
    "\\text{Subject to} && 2x_1+x_2+3x_3 & \\le 42\\\\\n",
    "&&2x_1+x_2+2x_3 & \\le 40\\\\\n",
    "&&x_1+2x_2+x_3 & \\le 45\\\\\n",
    "&&x_1,x_2,x_3 & \\ge 0\n",
    "\\end{align*}\n",
    "\n",
    "Using the simplex method find the optimal values of $x_1$,\n",
    "  $x_2$, $x_3$ and $z$."
   ]
  },
  {
   "cell_type": "code",
   "execution_count": 12,
   "id": "e2515df1-357d-4513-928d-60dd71ba50dc",
   "metadata": {},
   "outputs": [],
   "source": [
    "# Constraint matrix\n",
    "A <- matrix(c(2, 1, 3, 2, 1, 2, 1, 2, 1), ncol = 3, byrow = TRUE)\n",
    "b <- c(42, 40, 45)\n",
    "c <- c(20, 15, 10)"
   ]
  },
  {
   "cell_type": "code",
   "execution_count": 13,
   "id": "f6442487-56bf-468c-8477-355779e1d6fe",
   "metadata": {},
   "outputs": [
    {
     "name": "stdout",
     "output_type": "stream",
     "text": [
      "[1] \"initial Tableau\"\n",
      "      1   2   3 S 1 S 2 S 3 P0\n",
      "1     2   1   3   1   0   0 42\n",
      "2     2   1   2   0   1   0 40\n",
      "3     1   2   1   0   0   1 45\n",
      "Z-C -20 -15 -10   0   0   0  0\n",
      "\n",
      "Pivot Column: 1 ( 1 )\n",
      "Pivot Row: 2 ( 2 )\n",
      "\n",
      "    1    2  3 S 1  S 2 S 3  P0\n",
      "1   0  0.0  1   1 -1.0   0   2\n",
      "1   1  0.5  1   0  0.5   0  20\n",
      "3   0  1.5  0   0 -0.5   1  25\n",
      "Z-C 0 -5.0 10   0 10.0   0 400\n",
      "\n",
      "Pivot Column: 2 ( 2 )\n",
      "Pivot Row: 3 ( 3 )\n",
      "\n",
      "    1 2  3 S 1        S 2        S 3        P0\n",
      "1   0 0  1   1 -1.0000000  0.0000000   2.00000\n",
      "1   1 0  1   0  0.6666667 -0.3333333  11.66667\n",
      "2   0 1  0   0 -0.3333333  0.6666667  16.66667\n",
      "Z-C 0 0 10   0  8.3333333  3.3333333 483.33333\n"
     ]
    },
    {
     "data": {
      "text/plain": [
       "\n",
       "\n",
       "Results of Linear Programming / Linear Optimization\n",
       "\n",
       "Objective function (Maximum): 483.333 \n",
       "\n",
       "Iterations in phase 1: 0\n",
       "Iterations in phase 2: 2\n",
       "Solution\n",
       "      opt\n",
       "1 11.6667\n",
       "2 16.6667\n",
       "3  0.0000\n",
       "\n",
       "Basic Variables\n",
       "        opt\n",
       "1   11.6667\n",
       "2   16.6667\n",
       "S 1  2.0000\n",
       "\n",
       "Constraints\n",
       "  actual dir bvec free    dual dual.reg\n",
       "1     40  <=   42    2 0.00000      2.0\n",
       "2     40  <=   40    0 8.33333     17.5\n",
       "3     45  <=   45    0 3.33333     25.0\n",
       "\n",
       "All Variables (including slack variables)\n",
       "        opt cvec min.c    max.c      marg marg.reg\n",
       "1   11.6667   20    10 30.00000        NA       NA\n",
       "2   16.6667   15    10 40.00000        NA       NA\n",
       "3    0.0000   10  -Inf 20.00000 -10.00000      2.0\n",
       "S 1  2.0000    0   -10  8.33333   0.00000       NA\n",
       "S 2  0.0000    0  -Inf  8.33333  -8.33333     17.5\n",
       "S 3  0.0000    0  -Inf  3.33333  -3.33333     25.0\n"
      ]
     },
     "metadata": {},
     "output_type": "display_data"
    }
   ],
   "source": [
    "solveLP(c, b, A, maximum = TRUE, verbose = 4)"
   ]
  },
  {
   "cell_type": "markdown",
   "id": "68d0536e",
   "metadata": {},
   "source": [
    "3.  At a preschool lunch is provided. The following table shows the available food products."
   ]
  },
  {
   "cell_type": "code",
   "execution_count": 14,
   "id": "e0aca2da",
   "metadata": {
    "eval": true,
    "tags": [
     "remove_input"
    ]
   },
   "outputs": [
    {
     "data": {
      "text/plain": [
       "\n",
       "\n",
       "Table: \n",
       "\n",
       "|                       | Calories from Fat| Total Calories| Vitamin C (mg)| Protein (g)| Cost (c)|\n",
       "|:----------------------|-----------------:|--------------:|--------------:|-----------:|--------:|\n",
       "|Bread (1 slice)        |                10|             70|              0|           3|        5|\n",
       "|Peanut Butter (1 tbsp) |                75|            100|              0|           4|        4|\n",
       "|Jam (1 tbsp)           |                 0|             50|              3|           0|        7|\n",
       "|Cracker (1)            |                20|             60|              0|           1|        8|\n",
       "|Milk (1 cup)           |                70|            150|              2|           8|       15|\n",
       "|Juice (1 cup)          |                 0|            100|            120|           1|       35|"
      ]
     },
     "metadata": {},
     "output_type": "display_data"
    }
   ],
   "source": [
    "dat = c(10,75,0,20,70,0,\n",
    "        70,100,50,60,150,100,\n",
    "        0,0,3,0,2,120,\n",
    "        3,4,0,1,8,1,\n",
    "        5,4,7,8,15,35)\n",
    "dat=matrix(dat, ncol=5)\n",
    "library(kableExtra)\n",
    "colnames(dat) = c(\"Calories from Fat\", \"Total Calories\", \"Vitamin C (mg)\", \"Protein (g)\", \"Cost (c)\")\n",
    "rownames(dat) = c(\"Bread (1 slice)\", \"Peanut Butter (1 tbsp)\", \"Jam (1 tbsp)\", \"Cracker (1)\",\n",
    "                  \"Milk (1 cup)\", \"Juice (1 cup)\")\n",
    "kable(dat, caption=\"\")"
   ]
  },
  {
   "cell_type": "markdown",
   "id": "0059beca-f4fe-4d68-996d-ed137b022516",
   "metadata": {},
   "source": [
    "Each child should have \n",
    "\n",
    "+ between 400 and 600 calories\n",
    "+ no more that 30% of calories from fat\n",
    "+ at least 60mg of Vitamin C and 12g of protein\n",
    "+ exactly 2 slices of bread\n",
    "+ at least twice as much PB as Jam\n",
    "+ at least one cup of liquid\n",
    "\n",
    "Cost should minimised.\n",
    "\n",
    "a. Write as a linear program"
   ]
  },
  {
   "cell_type": "code",
   "execution_count": 18,
   "id": "17103378-ec0f-4f7a-a92d-d08a13b5eb45",
   "metadata": {},
   "outputs": [],
   "source": [
    "# First write down the constraint matrix \n",
    "Constrain_matrix = rbind(c(70, 100, 50, 60, 150, 100), c(70, 100, 50, 60, 150, 100), \n",
    "                        0.3*c(70, 100, 50, 60, 150, 100)- c(10, 75, 0, 20 ,70,0),\n",
    "                        c(0, 0, 3, 0, 2, 120), c(0,0,3,0,2,120), c(1, 0,0,0,0,0), c(0,1,-2, 0, 0,0),\n",
    "                        c(0,0,0,0,1,1))\n",
    "# Objective function \n",
    "cost = c(5,4, 7,8,15,35) \n",
    "# Right handside\n",
    "rhs = c(400, 600, 0, 60, 12, 2, 0, 1)\n",
    "direction = c(\">=\", \"<=\", \">=\", \">=\", \">=\", \"=\", \">=\", \">=\")"
   ]
  },
  {
   "cell_type": "code",
   "execution_count": 19,
   "id": "6a08f9db-62a9-49ba-9759-d76974a2d939",
   "metadata": {},
   "outputs": [
    {
     "data": {
      "text/plain": [
       "\n",
       "\n",
       "Results of Linear Programming / Linear Optimization\n",
       "(using lpSolve)\n",
       "\n",
       "Objective function (Minimum): 47.3106 \n",
       "\n",
       "Solution\n",
       "       opt\n",
       "1 2.000000\n",
       "2 0.574751\n",
       "3 0.287375\n",
       "4 1.039452\n",
       "5 0.515781\n",
       "6 0.484219\n",
       "\n",
       "Constraints\n",
       "  actual dir bvec free\n",
       "1    400  >=  400    0\n",
       "2    400  <=  600  200\n",
       "3      0  >=    0    0\n",
       "4     60  >=   60    0\n",
       "5     60  >=   12   48\n",
       "6      2   =    2    0\n",
       "7      0  >=    0    0\n",
       "8      1  >=    1    0\n"
      ]
     },
     "metadata": {},
     "output_type": "display_data"
    }
   ],
   "source": [
    "solveLP(cost, rhs, Constrain_matrix, maximum = FALSE, const.dir = direction, lpSolve = TRUE)"
   ]
  },
  {
   "cell_type": "markdown",
   "id": "c8dd30c5-7188-47a2-b7fe-e130b6ecddc4",
   "metadata": {},
   "source": [
    "b. Solve\n",
    "    "
   ]
  },
  {
   "cell_type": "code",
   "execution_count": 20,
   "id": "fd4f03a3-9e2b-493a-86c2-564c07676745",
   "metadata": {},
   "outputs": [],
   "source": [
    "# If you want to add interger contraint to your variable "
   ]
  },
  {
   "cell_type": "code",
   "execution_count": 21,
   "id": "fbe86389-6987-409d-8073-0f5495212a0b",
   "metadata": {},
   "outputs": [],
   "source": [
    "require(lpSolve)\n",
    "# Add addtional contraint to the number of cracker\n",
    "sol = lp(direction = \"min\", objective.in = cost, const.mat = Constrain_matrix, const.dir = direction, \n",
    "        const.rhs = rhs, int.vec =4)"
   ]
  },
  {
   "cell_type": "code",
   "execution_count": 22,
   "id": "cd801827-e43c-420b-8f51-6c9a5cc517ec",
   "metadata": {},
   "outputs": [
    {
     "data": {
      "text/plain": [
       "Success: the objective function is 51.41356 "
      ]
     },
     "metadata": {},
     "output_type": "display_data"
    }
   ],
   "source": [
    "sol"
   ]
  },
  {
   "cell_type": "code",
   "execution_count": 23,
   "id": "1a0d2dfc-eeba-4285-93d4-c82295a148d3",
   "metadata": {},
   "outputs": [
    {
     "data": {
      "text/html": [
       "<style>\n",
       ".list-inline {list-style: none; margin:0; padding: 0}\n",
       ".list-inline>li {display: inline-block}\n",
       ".list-inline>li:not(:last-child)::after {content: \"\\00b7\"; padding: 0 .5ex}\n",
       "</style>\n",
       "<ol class=list-inline><li>2</li><li>0.145762711864407</li><li>0</li><li>2</li><li>0.508474576271186</li><li>0.491525423728814</li></ol>\n"
      ],
      "text/latex": [
       "\\begin{enumerate*}\n",
       "\\item 2\n",
       "\\item 0.145762711864407\n",
       "\\item 0\n",
       "\\item 2\n",
       "\\item 0.508474576271186\n",
       "\\item 0.491525423728814\n",
       "\\end{enumerate*}\n"
      ],
      "text/markdown": [
       "1. 2\n",
       "2. 0.145762711864407\n",
       "3. 0\n",
       "4. 2\n",
       "5. 0.508474576271186\n",
       "6. 0.491525423728814\n",
       "\n",
       "\n"
      ],
      "text/plain": [
       "[1] 2.0000000 0.1457627 0.0000000 2.0000000 0.5084746 0.4915254"
      ]
     },
     "metadata": {},
     "output_type": "display_data"
    }
   ],
   "source": [
    "sol$solution"
   ]
  },
  {
   "cell_type": "code",
   "execution_count": null,
   "id": "68dca9e9-2f2e-4828-b1d4-c57641bede1a",
   "metadata": {},
   "outputs": [],
   "source": []
  },
  {
   "cell_type": "code",
   "execution_count": null,
   "id": "6100990c-5fa8-4608-915f-c3bf038ce803",
   "metadata": {},
   "outputs": [],
   "source": []
  }
 ],
 "metadata": {
  "jupytext": {
   "cell_metadata_filter": "tags,eval,child,-all",
   "formats": "Rmd,ipynb",
   "notebook_metadata_filter": "-all"
  },
  "kernelspec": {
   "display_name": "R",
   "language": "R",
   "name": "ir"
  },
  "language_info": {
   "codemirror_mode": "r",
   "file_extension": ".r",
   "mimetype": "text/x-r-source",
   "name": "R",
   "pygments_lexer": "r",
   "version": "4.5.1"
  }
 },
 "nbformat": 4,
 "nbformat_minor": 5
}
